{
 "cells": [
  {
   "cell_type": "code",
   "execution_count": 198,
   "metadata": {
    "collapsed": false
   },
   "outputs": [],
   "source": [
    "import numpy as np\n",
    "import pandas as pd\n",
    "pd.set_option('html',False)"
   ]
  },
  {
   "cell_type": "markdown",
   "metadata": {},
   "source": [
    "<h2>Fast tabular data IO</h2>"
   ]
  },
  {
   "cell_type": "code",
   "execution_count": 199,
   "metadata": {
    "collapsed": false
   },
   "outputs": [
    {
     "name": "stdout",
     "output_type": "stream",
     "text": [
      "Python version 2.7.6 (default, Jun 22 2015, 17:58:13) \n",
      "[GCC 4.8.2]\n",
      "Pandas version 0.16.2\n"
     ]
    }
   ],
   "source": [
    "# Import all libraries needed for the tutorial\n",
    "import pandas as pd\n",
    "from numpy import random\n",
    "import matplotlib.pyplot as plt\n",
    "import sys #only needed to determine Python version number\n",
    "\n",
    "# Enable inline plotting\n",
    "%matplotlib inline\n",
    "\n",
    "train_x = '/home/hessenh/Development/Prosjektoppgave/Notebook/K-Nearest-Neighbors-with-Dynamic-Time-Warping-master/data/UCI-HAR-Dataset/train/X_train.txt'\n",
    "train_y = '/home/hessenh/Development/Prosjektoppgave/Notebook/K-Nearest-Neighbors-with-Dynamic-Time-Warping-master/data/UCI-HAR-Dataset/train/y_train.txt'\n",
    "\n",
    "print 'Python version ' + sys.version\n",
    "print 'Pandas version ' + pd.__version__"
   ]
  },
  {
   "cell_type": "code",
   "execution_count": 200,
   "metadata": {
    "collapsed": false
   },
   "outputs": [
    {
     "name": "stdout",
     "output_type": "stream",
     "text": [
      "<class 'pandas.core.frame.DataFrame'>\n",
      "Int64Index: 7352 entries, 0 to 7351\n",
      "Columns: 561 entries, 0 to 560\n",
      "dtypes: float64(561)\n",
      "memory usage: 31.5 MB\n",
      "\n",
      "<class 'pandas.core.frame.DataFrame'>\n",
      "Int64Index: 7352 entries, 0 to 7351\n",
      "Data columns (total 1 columns):\n",
      "0    7352 non-null int64\n",
      "dtypes: int64(1)\n",
      "memory usage: 114.9 KB\n"
     ]
    }
   ],
   "source": [
    "df_x = pd.read_csv(train_x, header=None, sep='\\s+')\n",
    "df_x.info()\n",
    "print \n",
    "df_y = pd.read_csv(train_y, header=None, sep='\\s+')\n",
    "df_y.info()"
   ]
  },
  {
   "cell_type": "markdown",
   "metadata": {},
   "source": [
    "<h2>Get first instance</h2>"
   ]
  },
  {
   "cell_type": "code",
   "execution_count": 201,
   "metadata": {
    "collapsed": false
   },
   "outputs": [
    {
     "data": {
      "text/plain": [
       "0      0.288585\n",
       "1     -0.020294\n",
       "2     -0.132905\n",
       "3     -0.995279\n",
       "4     -0.983111\n",
       "5     -0.913526\n",
       "6     -0.995112\n",
       "7     -0.983185\n",
       "8     -0.923527\n",
       "9     -0.934724\n",
       "10    -0.567378\n",
       "11    -0.744413\n",
       "12     0.852947\n",
       "13     0.685845\n",
       "14     0.814263\n",
       "15    -0.965523\n",
       "16    -0.999945\n",
       "17    -0.999863\n",
       "18    -0.994612\n",
       "19    -0.994231\n",
       "20    -0.987614\n",
       "21    -0.943220\n",
       "22    -0.407747\n",
       "23    -0.679338\n",
       "24    -0.602122\n",
       "25     0.929294\n",
       "26    -0.853011\n",
       "27     0.359910\n",
       "28    -0.058526\n",
       "29     0.256892\n",
       "         ...   \n",
       "531   -0.952264\n",
       "532   -0.989498\n",
       "533   -0.980135\n",
       "534   -0.999240\n",
       "535   -0.992656\n",
       "536   -0.701291\n",
       "537   -1.000000\n",
       "538   -0.128989\n",
       "539    0.586156\n",
       "540    0.374605\n",
       "541   -0.991990\n",
       "542   -0.990697\n",
       "543   -0.989941\n",
       "544   -0.992448\n",
       "545   -0.991048\n",
       "546   -0.991990\n",
       "547   -0.999937\n",
       "548   -0.990458\n",
       "549   -0.871306\n",
       "550   -1.000000\n",
       "551   -0.074323\n",
       "552   -0.298676\n",
       "553   -0.710304\n",
       "554   -0.112754\n",
       "555    0.030400\n",
       "556   -0.464761\n",
       "557   -0.018446\n",
       "558   -0.841247\n",
       "559    0.179941\n",
       "560   -0.058627\n",
       "Name: 0, dtype: float64"
      ]
     },
     "execution_count": 201,
     "metadata": {},
     "output_type": "execute_result"
    }
   ],
   "source": [
    "df_x.iloc[0]"
   ]
  },
  {
   "cell_type": "code",
   "execution_count": 202,
   "metadata": {
    "collapsed": false
   },
   "outputs": [
    {
     "data": {
      "text/plain": [
       "0    5\n",
       "Name: 0, dtype: int64"
      ]
     },
     "execution_count": 202,
     "metadata": {},
     "output_type": "execute_result"
    }
   ],
   "source": [
    "df_y.iloc[0]"
   ]
  },
  {
   "cell_type": "markdown",
   "metadata": {},
   "source": [
    "<h3>Data description</h3>"
   ]
  },
  {
   "cell_type": "markdown",
   "metadata": {},
   "source": [
    "<p>1 WALKING</p>\n",
    "<p>2 WALKING_UPSTAIRS</p>\n",
    "<p>3 WALKING_DOWNSTAIRS</p>\n",
    "<p>4 SITTING</p>\n",
    "<p>5 STANDING</p>\n",
    "<p>6 LAYING</p>"
   ]
  },
  {
   "cell_type": "markdown",
   "metadata": {},
   "source": [
    "<h2>Merge data and labels</h2>"
   ]
  },
  {
   "cell_type": "code",
   "execution_count": 203,
   "metadata": {
    "collapsed": false
   },
   "outputs": [
    {
     "name": "stdout",
     "output_type": "stream",
     "text": [
      "561\n",
      "562\n"
     ]
    }
   ],
   "source": [
    "print len(df_x.values[0])\n",
    "df_n = pd.concat([df_x,df_y],axis=1,ignore_index=True)\n",
    "print len(df_n.values[0])"
   ]
  },
  {
   "cell_type": "markdown",
   "metadata": {
    "collapsed": false
   },
   "source": [
    "<h2>Extract the values we will use </h2>"
   ]
  },
  {
   "cell_type": "code",
   "execution_count": 204,
   "metadata": {
    "collapsed": false
   },
   "outputs": [
    {
     "data": {
      "text/plain": [
       "             x         y         z  a\n",
       "0     0.288585 -0.020294 -0.132905  5\n",
       "1     0.278419 -0.016411 -0.123520  5\n",
       "2     0.279653 -0.019467 -0.113462  5\n",
       "3     0.279174 -0.026201 -0.123283  5\n",
       "4     0.276629 -0.016570 -0.115362  5\n",
       "5     0.277199 -0.010098 -0.105137  5\n",
       "6     0.279454 -0.019641 -0.110022  5\n",
       "7     0.277432 -0.030488 -0.125360  5\n",
       "8     0.277293 -0.021751 -0.120751  5\n",
       "9     0.280586 -0.009960 -0.106065  5\n",
       "10    0.276880 -0.012722 -0.103438  5\n",
       "11    0.276228 -0.021441 -0.108202  5\n",
       "12    0.278457 -0.020415 -0.112732  5\n",
       "13    0.277175 -0.014713 -0.106756  5\n",
       "14    0.297946  0.027094 -0.061668  5\n",
       "15    0.279203 -0.023020 -0.122080  5\n",
       "16    0.279038 -0.014800 -0.116849  5\n",
       "17    0.280135 -0.013917 -0.106370  5\n",
       "18    0.277731 -0.018211 -0.109188  5\n",
       "19    0.275568 -0.016980 -0.111429  5\n",
       "20    0.277562 -0.014318 -0.107877  5\n",
       "21    0.277152 -0.017983 -0.106601  5\n",
       "22    0.275676 -0.021264 -0.110801  5\n",
       "23    0.279200 -0.017714 -0.109161  5\n",
       "24    0.281715 -0.011911 -0.102875  5\n",
       "25    0.278993 -0.014531 -0.106596  5\n",
       "26    0.275734 -0.018019 -0.106776  5\n",
       "27    0.144504  0.189263  0.062769  4\n",
       "28    0.287252 -0.037455 -0.145974  4\n",
       "29    0.279998 -0.019484 -0.105724  4\n",
       "...        ...       ...       ... ..\n",
       "7322  0.087902 -0.118993 -0.052787  2\n",
       "7323  0.216468 -0.068214 -0.119832  2\n",
       "7324  0.303490 -0.069855 -0.091222  2\n",
       "7325  0.355975 -0.046314 -0.087425  2\n",
       "7326  0.341562 -0.006308 -0.124693  2\n",
       "7327  0.194867  0.005240 -0.148642  2\n",
       "7328  0.193572  0.012456 -0.173717  2\n",
       "7329  0.354660 -0.010554 -0.196504  2\n",
       "7330  0.389674 -0.015067 -0.166583  2\n",
       "7331  0.306127 -0.025759 -0.103981  2\n",
       "7332  0.188898 -0.094342 -0.062392  2\n",
       "7333  0.215789 -0.022920 -0.236713  2\n",
       "7334  0.407780 -0.053721 -0.160671  2\n",
       "7335  0.260279  0.000813 -0.103406  2\n",
       "7336  0.128064 -0.027657 -0.088319  2\n",
       "7337  0.278414 -0.070497 -0.050016  2\n",
       "7338  0.344757 -0.045966 -0.011919  2\n",
       "7339  0.326647  0.012036 -0.091359  2\n",
       "7340  0.223283  0.013911 -0.214152  2\n",
       "7341  0.363768 -0.011264 -0.275724  2\n",
       "7342  0.276137 -0.108046 -0.056677  2\n",
       "7343  0.294230 -0.039968 -0.143397  2\n",
       "7344  0.221206 -0.036390 -0.167651  2\n",
       "7345  0.207861  0.063423 -0.220567  2\n",
       "7346  0.237966 -0.001088 -0.148326  2\n",
       "7347  0.299665 -0.057193 -0.181233  2\n",
       "7348  0.273853 -0.007749 -0.147468  2\n",
       "7349  0.273387 -0.017011 -0.045022  2\n",
       "7350  0.289654 -0.018843 -0.158281  2\n",
       "7351  0.351503 -0.012423 -0.203867  2\n",
       "\n",
       "[7352 rows x 4 columns]"
      ]
     },
     "execution_count": 204,
     "metadata": {},
     "output_type": "execute_result"
    }
   ],
   "source": [
    "df_n = df_n[[0,1,2,len(df_n.values[0])-1]]\n",
    "df_n.rename(columns={0: 'x', 1: 'y', 2: 'z',561: 'a'}, inplace=True)\n",
    "df_n"
   ]
  },
  {
   "cell_type": "markdown",
   "metadata": {
    "collapsed": true
   },
   "source": [
    "<h3>Group the activities</h3>"
   ]
  },
  {
   "cell_type": "code",
   "execution_count": 205,
   "metadata": {
    "collapsed": true
   },
   "outputs": [],
   "source": [
    "df_walk = df_n.loc[df_n['a'] == 1]\n",
    "df_walk_up = df_n.loc[df_n['a'] == 2]\n",
    "df_walk_down = df_n.loc[df_n['a'] == 3]\n",
    "df_sitting = df_n.loc[df_n['a'] == 4]\n",
    "df_standing = df_n.loc[df_n['a'] == 5]\n",
    "df_laying = df_n.loc[df_n['a'] == 6]"
   ]
  },
  {
   "cell_type": "markdown",
   "metadata": {},
   "source": [
    "<h1>Analyse the data</h1>"
   ]
  },
  {
   "cell_type": "markdown",
   "metadata": {},
   "source": [
    "<h3>Mean</h3>"
   ]
  },
  {
   "cell_type": "code",
   "execution_count": 206,
   "metadata": {
    "collapsed": false
   },
   "outputs": [
    {
     "data": {
      "text/plain": [
       "x    0.276260\n",
       "y   -0.017768\n",
       "z   -0.108884\n",
       "a    1.000000\n",
       "dtype: float64"
      ]
     },
     "execution_count": 206,
     "metadata": {},
     "output_type": "execute_result"
    }
   ],
   "source": [
    "df_walk.mean()"
   ]
  },
  {
   "cell_type": "markdown",
   "metadata": {},
   "source": [
    "<h2>Visualize the data</h2>"
   ]
  },
  {
   "cell_type": "code",
   "execution_count": 214,
   "metadata": {
    "collapsed": false
   },
   "outputs": [
    {
     "data": {
      "image/png": "[encoded data removed]",
      "text/plain": [
       "<matplotlib.figure.Figure at 0x7f918bbddc10>"
      ]
     },
     "metadata": {},
     "output_type": "display_data"
    }
   ],
   "source": [
    "from mpl_toolkits.mplot3d import Axes3D\n",
    "threedee = plt.figure().gca(projection='3d')\n",
    "threedee.scatter(df_walk['x'], df_walk['y'],df_walk['z'],c = \"r\")\n",
    "threedee.scatter(df_standing['x'], df_standing['y'],df_standing['z'], c=\"g\")\n",
    "threedee.scatter(df_sitting['x'], df_sitting['y'],df_sitting['z'], c = \"b\")\n",
    "threedee.set_xlabel('X')\n",
    "threedee.set_ylabel('Y')\n",
    "threedee.set_zlabel('Z')\n",
    "#threedee.azim = 200\n",
    "#threedee.elev = -45\n",
    "plt.show()\n"
   ]
  },
  {
   "cell_type": "code",
   "execution_count": 210,
   "metadata": {
    "collapsed": false
   },
   "outputs": [],
   "source": []
  },
  {
   "cell_type": "code",
   "execution_count": null,
   "metadata": {
    "collapsed": true
   },
   "outputs": [],
   "source": []
  },
  {
   "cell_type": "code",
   "execution_count": null,
   "metadata": {
    "collapsed": true
   },
   "outputs": [],
   "source": []
  }
 ],
 "metadata": {
  "kernelspec": {
   "display_name": "Python 2",
   "language": "python",
   "name": "python2"
  },
  "language_info": {
   "codemirror_mode": {
    "name": "ipython",
    "version": 2
   },
   "file_extension": ".py",
   "mimetype": "text/x-python",
   "name": "python",
   "nbconvert_exporter": "python",
   "pygments_lexer": "ipython2",
   "version": "2.7.6"
  }
 },
 "nbformat": 4,
 "nbformat_minor": 0
}
