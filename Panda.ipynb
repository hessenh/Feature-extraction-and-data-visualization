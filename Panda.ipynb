{
 "cells": [
  {
   "cell_type": "markdown",
   "metadata": {},
   "source": [
    "<h1> Load, visualize and extract features of the USC-HAR dataset </h1>"
   ]
  },
  {
   "cell_type": "code",
   "execution_count": 3,
   "metadata": {
    "collapsed": false
   },
   "outputs": [],
   "source": [
    "import numpy as np\n",
    "import pandas as pd\n",
    "pd.set_option('html',False)"
   ]
  },
  {
   "cell_type": "markdown",
   "metadata": {},
   "source": [
    "<h2>Fast tabular data IO</h2>"
   ]
  },
  {
   "cell_type": "code",
   "execution_count": 2,
   "metadata": {
    "collapsed": false
   },
   "outputs": [
    {
     "name": "stdout",
     "output_type": "stream",
     "text": [
      "Python version 2.7.6 (default, Jun 22 2015, 17:58:13) \n",
      "[GCC 4.8.2]\n",
      "Pandas version 0.16.2\n"
     ]
    }
   ],
   "source": [
    "# Import all libraries needed for the tutorial\n",
    "import pandas as pd\n",
    "from numpy import random\n",
    "import matplotlib.pyplot as plt\n",
    "import sys #only needed to determine Python version number\n",
    "\n",
    "# Enable inline plotting\n",
    "%matplotlib inline\n",
    "\n",
    "train_x = '/home/hessenh/Development/Prosjektoppgave/Notebook/K-Nearest-Neighbors-with-Dynamic-Time-Warping-master/data/UCI-HAR-Dataset/train/Inertial Signals/body_acc_x_train.txt'\n",
    "train_y = '/home/hessenh/Development/Prosjektoppgave/Notebook/K-Nearest-Neighbors-with-Dynamic-Time-Warping-master/data/UCI-HAR-Dataset/train/Inertial Signals/body_acc_y_train.txt'\n",
    "train_z = '/home/hessenh/Development/Prosjektoppgave/Notebook/K-Nearest-Neighbors-with-Dynamic-Time-Warping-master/data/UCI-HAR-Dataset/train/Inertial Signals/body_acc_z_train.txt'\n",
    "train_l = '/home/hessenh/Development/Prosjektoppgave/Notebook/K-Nearest-Neighbors-with-Dynamic-Time-Warping-master/data/UCI-HAR-Dataset/train/y_train.txt'\n",
    "\n",
    "\n",
    "print 'Python version ' + sys.version\n",
    "print 'Pandas version ' + pd.__version__"
   ]
  },
  {
   "cell_type": "code",
   "execution_count": 3,
   "metadata": {
    "collapsed": false
   },
   "outputs": [
    {
     "name": "stdout",
     "output_type": "stream",
     "text": [
      "<class 'pandas.core.frame.DataFrame'>\n",
      "Int64Index: 7352 entries, 0 to 7351\n",
      "Columns: 128 entries, 0 to 127\n",
      "dtypes: float64(128)\n",
      "memory usage: 7.2 MB\n",
      "\n",
      "<class 'pandas.core.frame.DataFrame'>\n",
      "Int64Index: 7352 entries, 0 to 7351\n",
      "Columns: 128 entries, 0 to 127\n",
      "dtypes: float64(128)\n",
      "memory usage: 7.2 MB\n",
      "\n",
      "<class 'pandas.core.frame.DataFrame'>\n",
      "Int64Index: 7352 entries, 0 to 7351\n",
      "Columns: 128 entries, 0 to 127\n",
      "dtypes: float64(128)\n",
      "memory usage: 7.2 MB\n",
      "\n",
      "<class 'pandas.core.frame.DataFrame'>\n",
      "Int64Index: 7352 entries, 0 to 7351\n",
      "Data columns (total 1 columns):\n",
      "0    7352 non-null int64\n",
      "dtypes: int64(1)\n",
      "memory usage: 114.9 KB\n"
     ]
    }
   ],
   "source": [
    "df_x = pd.read_csv(train_x, header=None, sep='\\s+')\n",
    "df_x.info()\n",
    "print \n",
    "df_y = pd.read_csv(train_y, header=None, sep='\\s+')\n",
    "df_y.info()\n",
    "print \n",
    "df_z = pd.read_csv(train_z, header=None, sep='\\s+')\n",
    "df_z.info()\n",
    "print \n",
    "df_l = pd.read_csv(train_l, header=None, sep='\\s+')\n",
    "df_l.info()"
   ]
  },
  {
   "cell_type": "markdown",
   "metadata": {},
   "source": [
    "<h2>Get first instance. Each instance is equal to one sliding window.</h2>"
   ]
  },
  {
   "cell_type": "code",
   "execution_count": 9,
   "metadata": {
    "collapsed": false
   },
   "outputs": [
    {
     "data": {
      "text/plain": [
       "0    0.000181\n",
       "1    0.010139\n",
       "2    0.009276\n",
       "3    0.005066\n",
       "4    0.010810\n",
       "5    0.004045\n",
       "6    0.004757\n",
       "7    0.006214\n",
       "8    0.003307\n",
       "9    0.007572\n",
       "Name: 0, dtype: float64"
      ]
     },
     "execution_count": 9,
     "metadata": {},
     "output_type": "execute_result"
    }
   ],
   "source": [
    "# First 10 values of the first instance in the x-acc-data\n",
    "df_x.iloc[0][0:10]"
   ]
  },
  {
   "cell_type": "code",
   "execution_count": 10,
   "metadata": {
    "collapsed": false
   },
   "outputs": [
    {
     "data": {
      "text/plain": [
       "0    5\n",
       "Name: 0, dtype: int64"
      ]
     },
     "execution_count": 10,
     "metadata": {},
     "output_type": "execute_result"
    }
   ],
   "source": [
    "# First value of the first instanceof t\n",
    "df_l.iloc[0]"
   ]
  },
  {
   "cell_type": "markdown",
   "metadata": {},
   "source": [
    "<h3>Data description</h3>"
   ]
  },
  {
   "cell_type": "markdown",
   "metadata": {},
   "source": [
    "<p>1 WALKING</p>\n",
    "<p>2 WALKING_UPSTAIRS</p>\n",
    "<p>3 WALKING_DOWNSTAIRS</p>\n",
    "<p>4 SITTING</p>\n",
    "<p>5 STANDING</p>\n",
    "<p>6 LAYING</p>"
   ]
  },
  {
   "cell_type": "markdown",
   "metadata": {},
   "source": [
    "<h3>Merge data and labels</h3>"
   ]
  },
  {
   "cell_type": "code",
   "execution_count": 14,
   "metadata": {
    "collapsed": false
   },
   "outputs": [
    {
     "name": "stdout",
     "output_type": "stream",
     "text": [
      "128\n",
      "256\n"
     ]
    }
   ],
   "source": [
    "print len(df_x.values[0])\n",
    "df_n = pd.concat([df_x,df_y],axis=1,ignore_index=True)\n",
    "print len(df_n.values[0])"
   ]
  },
  {
   "cell_type": "markdown",
   "metadata": {
    "collapsed": false
   },
   "source": [
    "<h2>Extract the values we will use </h2>"
   ]
  },
  {
   "cell_type": "code",
   "execution_count": 15,
   "metadata": {
    "collapsed": false
   },
   "outputs": [],
   "source": [
    "df_n = df_n[[0,1,2,len(df_n.values[0])-1]]\n",
    "df_n.rename(columns={0: 'x', 1: 'y', 2: 'z',561: 'a'}, inplace=True)"
   ]
  },
  {
   "cell_type": "markdown",
   "metadata": {
    "collapsed": true
   },
   "source": [
    "<h3>Group the activities</h3>"
   ]
  },
  {
   "cell_type": "code",
   "execution_count": 36,
   "metadata": {
    "collapsed": false
   },
   "outputs": [
    {
     "name": "stdout",
     "output_type": "stream",
     "text": [
      "Walking:  1226\n",
      "Walking up:  1073\n",
      "Walking down:  986\n",
      "Sitting:  1286\n",
      "Standing:  1374\n",
      "Laying:  1407\n"
     ]
    }
   ],
   "source": [
    "df_walk_x = df_x[df_l[0] == 1]\n",
    "df_walk_y = df_y[df_l[0] == 1]\n",
    "df_walk_z = df_z[df_l[0] == 1]\n",
    "print \"Walking: \",len(df_walk_x) \n",
    "df_walk_up_x = df_x[df_l[0] == 2]\n",
    "df_walk_up_y = df_y[df_l[0] == 2]\n",
    "df_walk_up_z = df_z[df_l[0] == 2]\n",
    "print \"Walking up: \",len(df_walk_up_x)\n",
    "df_walk_down_x = df_x[df_l[0] == 3]\n",
    "df_walk_down_y = df_y[df_l[0] == 3]\n",
    "df_walk_down_z = df_z[df_l[0] == 3]\n",
    "print \"Walking down: \",len(df_walk_down_x)\n",
    "df_sitting_x = df_x[df_l[0] == 4]\n",
    "df_sitting_y = df_y[df_l[0] == 4]\n",
    "df_sitting_z = df_z[df_l[0] == 4]\n",
    "print \"Sitting: \",len(df_sitting_x)\n",
    "df_standing_x = df_x[df_l[0] == 5]\n",
    "df_standing_y = df_y[df_l[0] == 5]\n",
    "df_standing_z = df_z[df_l[0] == 5]\n",
    "print \"Standing: \",len(df_standing_x)\n",
    "df_laying_x = df_x[df_l[0] == 6]\n",
    "df_laying_y = df_y[df_l[0] == 6]\n",
    "df_laying_z = df_z[df_l[0] == 6]\n",
    "print \"Laying: \",len(df_laying_x)"
   ]
  },
  {
   "cell_type": "markdown",
   "metadata": {},
   "source": [
    "<h1>Analyse the data</h1>"
   ]
  },
  {
   "cell_type": "markdown",
   "metadata": {},
   "source": [
    "<h3>Mean</h3>"
   ]
  },
  {
   "cell_type": "code",
   "execution_count": 46,
   "metadata": {
    "collapsed": false
   },
   "outputs": [
    {
     "data": {
      "text/plain": [
       "0.00091619324218749818"
      ]
     },
     "execution_count": 46,
     "metadata": {},
     "output_type": "execute_result"
    }
   ],
   "source": [
    "df_walk_x.iloc[0].mean()"
   ]
  },
  {
   "cell_type": "markdown",
   "metadata": {},
   "source": [
    "<h2>Visualize the data - one instance(128 values)</h2>"
   ]
  },
  {
   "cell_type": "code",
   "execution_count": 54,
   "metadata": {
    "collapsed": false
   },
   "outputs": [
    {
     "data": {
      "image/png": "[encoded data removed]",
      "text/plain": [
       "<matplotlib.figure.Figure at 0x7f792ecb5e50>"
      ]
     },
     "metadata": {},
     "output_type": "display_data"
    }
   ],
   "source": [
    "from mpl_toolkits.mplot3d import Axes3D\n",
    "threedee = plt.figure().gca(projection='3d')\n",
    "threedee.scatter(df_walk_x.iloc[0], df_walk_y.iloc[0],df_walk_z.iloc[0],c = \"r\")\n",
    "threedee.scatter(df_standing_x.iloc[0], df_standing_y.iloc[0],df_standing_z.iloc[0], c=\"g\")\n",
    "threedee.scatter(df_sitting_x.iloc[0], df_sitting_y.iloc[0],df_sitting_z.iloc[0], c = \"b\")\n",
    "threedee.set_xlabel('X')\n",
    "threedee.set_ylabel('Y')\n",
    "threedee.set_zlabel('Z')\n",
    "threedee.azim = 200\n",
    "#threedee.elev = -45\n",
    "plt.show()\n"
   ]
  },
  {
   "cell_type": "markdown",
   "metadata": {
    "collapsed": false
   },
   "source": [
    "<h3> Grap chuncks of data </h3> "
   ]
  },
  {
   "cell_type": "markdown",
   "metadata": {},
   "source": [
    "<p>10 first instances of walking <p>"
   ]
  },
  {
   "cell_type": "code",
   "execution_count": 55,
   "metadata": {
    "collapsed": false
   },
   "outputs": [
    {
     "data": {
      "text/html": [
       "<div>\n",
       "<table border=\"1\" class=\"dataframe\">\n",
       "  <thead>\n",
       "    <tr style=\"text-align: right;\">\n",
       "      <th></th>\n",
       "      <th>0</th>\n",
       "      <th>1</th>\n",
       "      <th>2</th>\n",
       "      <th>3</th>\n",
       "      <th>4</th>\n",
       "      <th>5</th>\n",
       "      <th>6</th>\n",
       "      <th>7</th>\n",
       "      <th>8</th>\n",
       "      <th>9</th>\n",
       "      <th>...</th>\n",
       "      <th>118</th>\n",
       "      <th>119</th>\n",
       "      <th>120</th>\n",
       "      <th>121</th>\n",
       "      <th>122</th>\n",
       "      <th>123</th>\n",
       "      <th>124</th>\n",
       "      <th>125</th>\n",
       "      <th>126</th>\n",
       "      <th>127</th>\n",
       "    </tr>\n",
       "  </thead>\n",
       "  <tbody>\n",
       "    <tr>\n",
       "      <th>78</th>\n",
       "      <td>0.376798</td>\n",
       "      <td>0.382064</td>\n",
       "      <td>0.119208</td>\n",
       "      <td>-0.289914</td>\n",
       "      <td>-0.315472</td>\n",
       "      <td>-0.083072</td>\n",
       "      <td>0.023282</td>\n",
       "      <td>0.009530</td>\n",
       "      <td>-0.050622</td>\n",
       "      <td>-0.069714</td>\n",
       "      <td>...</td>\n",
       "      <td>0.328153</td>\n",
       "      <td>0.344551</td>\n",
       "      <td>0.398876</td>\n",
       "      <td>0.405265</td>\n",
       "      <td>0.270711</td>\n",
       "      <td>-0.125565</td>\n",
       "      <td>-0.422726</td>\n",
       "      <td>-0.288835</td>\n",
       "      <td>-0.011186</td>\n",
       "      <td>0.092880</td>\n",
       "    </tr>\n",
       "    <tr>\n",
       "      <th>79</th>\n",
       "      <td>0.423367</td>\n",
       "      <td>0.493977</td>\n",
       "      <td>0.303323</td>\n",
       "      <td>-0.028609</td>\n",
       "      <td>-0.311065</td>\n",
       "      <td>-0.353213</td>\n",
       "      <td>-0.191994</td>\n",
       "      <td>-0.029289</td>\n",
       "      <td>0.037625</td>\n",
       "      <td>0.040067</td>\n",
       "      <td>...</td>\n",
       "      <td>0.050554</td>\n",
       "      <td>0.015661</td>\n",
       "      <td>-0.064304</td>\n",
       "      <td>-0.173925</td>\n",
       "      <td>-0.177827</td>\n",
       "      <td>-0.243675</td>\n",
       "      <td>-0.390169</td>\n",
       "      <td>-0.315476</td>\n",
       "      <td>-0.143001</td>\n",
       "      <td>-0.040035</td>\n",
       "    </tr>\n",
       "    <tr>\n",
       "      <th>80</th>\n",
       "      <td>0.014787</td>\n",
       "      <td>-0.153246</td>\n",
       "      <td>-0.249895</td>\n",
       "      <td>-0.265279</td>\n",
       "      <td>-0.305845</td>\n",
       "      <td>-0.214722</td>\n",
       "      <td>-0.036103</td>\n",
       "      <td>-0.000923</td>\n",
       "      <td>-0.062384</td>\n",
       "      <td>-0.125443</td>\n",
       "      <td>...</td>\n",
       "      <td>-0.002905</td>\n",
       "      <td>-0.169194</td>\n",
       "      <td>-0.130048</td>\n",
       "      <td>-0.116734</td>\n",
       "      <td>-0.051293</td>\n",
       "      <td>0.015685</td>\n",
       "      <td>-0.032523</td>\n",
       "      <td>0.029368</td>\n",
       "      <td>0.067792</td>\n",
       "      <td>0.094807</td>\n",
       "    </tr>\n",
       "    <tr>\n",
       "      <th>81</th>\n",
       "      <td>-0.018218</td>\n",
       "      <td>-0.095802</td>\n",
       "      <td>-0.099190</td>\n",
       "      <td>-0.039455</td>\n",
       "      <td>-0.013821</td>\n",
       "      <td>0.030053</td>\n",
       "      <td>0.041788</td>\n",
       "      <td>0.067551</td>\n",
       "      <td>0.209628</td>\n",
       "      <td>0.370367</td>\n",
       "      <td>...</td>\n",
       "      <td>0.204726</td>\n",
       "      <td>0.201511</td>\n",
       "      <td>0.250830</td>\n",
       "      <td>0.258867</td>\n",
       "      <td>0.125358</td>\n",
       "      <td>-0.073447</td>\n",
       "      <td>-0.110560</td>\n",
       "      <td>0.135832</td>\n",
       "      <td>0.439542</td>\n",
       "      <td>0.531822</td>\n",
       "    </tr>\n",
       "    <tr>\n",
       "      <th>82</th>\n",
       "      <td>0.210739</td>\n",
       "      <td>0.258105</td>\n",
       "      <td>0.249927</td>\n",
       "      <td>0.150712</td>\n",
       "      <td>0.023927</td>\n",
       "      <td>0.065996</td>\n",
       "      <td>0.239245</td>\n",
       "      <td>0.390535</td>\n",
       "      <td>0.374013</td>\n",
       "      <td>0.188145</td>\n",
       "      <td>...</td>\n",
       "      <td>0.271162</td>\n",
       "      <td>0.043980</td>\n",
       "      <td>-0.181855</td>\n",
       "      <td>-0.223851</td>\n",
       "      <td>-0.198429</td>\n",
       "      <td>-0.311833</td>\n",
       "      <td>-0.380063</td>\n",
       "      <td>-0.333213</td>\n",
       "      <td>-0.356975</td>\n",
       "      <td>-0.337175</td>\n",
       "    </tr>\n",
       "    <tr>\n",
       "      <th>83</th>\n",
       "      <td>0.387277</td>\n",
       "      <td>0.107015</td>\n",
       "      <td>-0.165145</td>\n",
       "      <td>-0.249274</td>\n",
       "      <td>-0.212410</td>\n",
       "      <td>-0.305623</td>\n",
       "      <td>-0.372618</td>\n",
       "      <td>-0.342016</td>\n",
       "      <td>-0.400519</td>\n",
       "      <td>-0.390838</td>\n",
       "      <td>...</td>\n",
       "      <td>-0.332225</td>\n",
       "      <td>-0.288320</td>\n",
       "      <td>-0.176518</td>\n",
       "      <td>-0.125878</td>\n",
       "      <td>-0.030146</td>\n",
       "      <td>0.203299</td>\n",
       "      <td>0.383061</td>\n",
       "      <td>0.450200</td>\n",
       "      <td>0.418819</td>\n",
       "      <td>0.395967</td>\n",
       "    </tr>\n",
       "    <tr>\n",
       "      <th>84</th>\n",
       "      <td>-0.274582</td>\n",
       "      <td>-0.260473</td>\n",
       "      <td>-0.193143</td>\n",
       "      <td>-0.142707</td>\n",
       "      <td>-0.046799</td>\n",
       "      <td>0.204299</td>\n",
       "      <td>0.474642</td>\n",
       "      <td>0.584657</td>\n",
       "      <td>0.424603</td>\n",
       "      <td>0.307540</td>\n",
       "      <td>...</td>\n",
       "      <td>0.381438</td>\n",
       "      <td>0.343557</td>\n",
       "      <td>0.401025</td>\n",
       "      <td>0.479814</td>\n",
       "      <td>0.358515</td>\n",
       "      <td>-0.010261</td>\n",
       "      <td>-0.429330</td>\n",
       "      <td>-0.479664</td>\n",
       "      <td>-0.098360</td>\n",
       "      <td>0.155677</td>\n",
       "    </tr>\n",
       "    <tr>\n",
       "      <th>85</th>\n",
       "      <td>0.449734</td>\n",
       "      <td>0.403512</td>\n",
       "      <td>0.169847</td>\n",
       "      <td>-0.217966</td>\n",
       "      <td>-0.436804</td>\n",
       "      <td>-0.235597</td>\n",
       "      <td>0.006062</td>\n",
       "      <td>0.105483</td>\n",
       "      <td>0.056979</td>\n",
       "      <td>-0.164571</td>\n",
       "      <td>...</td>\n",
       "      <td>-0.395900</td>\n",
       "      <td>0.050146</td>\n",
       "      <td>0.231975</td>\n",
       "      <td>0.200232</td>\n",
       "      <td>0.028843</td>\n",
       "      <td>-0.227158</td>\n",
       "      <td>-0.316074</td>\n",
       "      <td>-0.336053</td>\n",
       "      <td>-0.218164</td>\n",
       "      <td>-0.020875</td>\n",
       "    </tr>\n",
       "    <tr>\n",
       "      <th>86</th>\n",
       "      <td>0.047932</td>\n",
       "      <td>0.053133</td>\n",
       "      <td>0.080669</td>\n",
       "      <td>0.153277</td>\n",
       "      <td>0.244056</td>\n",
       "      <td>0.347647</td>\n",
       "      <td>0.394363</td>\n",
       "      <td>0.248351</td>\n",
       "      <td>-0.027703</td>\n",
       "      <td>-0.219696</td>\n",
       "      <td>...</td>\n",
       "      <td>0.182393</td>\n",
       "      <td>0.342309</td>\n",
       "      <td>0.440123</td>\n",
       "      <td>0.367482</td>\n",
       "      <td>0.347422</td>\n",
       "      <td>0.421374</td>\n",
       "      <td>0.384588</td>\n",
       "      <td>0.177201</td>\n",
       "      <td>-0.201303</td>\n",
       "      <td>-0.383630</td>\n",
       "    </tr>\n",
       "    <tr>\n",
       "      <th>87</th>\n",
       "      <td>0.259279</td>\n",
       "      <td>0.271774</td>\n",
       "      <td>0.330522</td>\n",
       "      <td>0.343202</td>\n",
       "      <td>0.261646</td>\n",
       "      <td>0.009223</td>\n",
       "      <td>-0.248975</td>\n",
       "      <td>-0.223814</td>\n",
       "      <td>-0.054075</td>\n",
       "      <td>0.001461</td>\n",
       "      <td>...</td>\n",
       "      <td>-0.210616</td>\n",
       "      <td>-0.243787</td>\n",
       "      <td>-0.049289</td>\n",
       "      <td>0.042373</td>\n",
       "      <td>-0.054733</td>\n",
       "      <td>-0.124652</td>\n",
       "      <td>-0.167599</td>\n",
       "      <td>-0.228585</td>\n",
       "      <td>-0.277071</td>\n",
       "      <td>-0.242084</td>\n",
       "    </tr>\n",
       "  </tbody>\n",
       "</table>\n",
       "<p>10 rows × 128 columns</p>\n",
       "</div>"
      ],
      "text/plain": [
       "         0         1         2         3         4         5         6    \\\n",
       "78  0.376798  0.382064  0.119208 -0.289914 -0.315472 -0.083072  0.023282   \n",
       "79  0.423367  0.493977  0.303323 -0.028609 -0.311065 -0.353213 -0.191994   \n",
       "80  0.014787 -0.153246 -0.249895 -0.265279 -0.305845 -0.214722 -0.036103   \n",
       "81 -0.018218 -0.095802 -0.099190 -0.039455 -0.013821  0.030053  0.041788   \n",
       "82  0.210739  0.258105  0.249927  0.150712  0.023927  0.065996  0.239245   \n",
       "83  0.387277  0.107015 -0.165145 -0.249274 -0.212410 -0.305623 -0.372618   \n",
       "84 -0.274582 -0.260473 -0.193143 -0.142707 -0.046799  0.204299  0.474642   \n",
       "85  0.449734  0.403512  0.169847 -0.217966 -0.436804 -0.235597  0.006062   \n",
       "86  0.047932  0.053133  0.080669  0.153277  0.244056  0.347647  0.394363   \n",
       "87  0.259279  0.271774  0.330522  0.343202  0.261646  0.009223 -0.248975   \n",
       "\n",
       "         7         8         9      ...          118       119       120  \\\n",
       "78  0.009530 -0.050622 -0.069714    ...     0.328153  0.344551  0.398876   \n",
       "79 -0.029289  0.037625  0.040067    ...     0.050554  0.015661 -0.064304   \n",
       "80 -0.000923 -0.062384 -0.125443    ...    -0.002905 -0.169194 -0.130048   \n",
       "81  0.067551  0.209628  0.370367    ...     0.204726  0.201511  0.250830   \n",
       "82  0.390535  0.374013  0.188145    ...     0.271162  0.043980 -0.181855   \n",
       "83 -0.342016 -0.400519 -0.390838    ...    -0.332225 -0.288320 -0.176518   \n",
       "84  0.584657  0.424603  0.307540    ...     0.381438  0.343557  0.401025   \n",
       "85  0.105483  0.056979 -0.164571    ...    -0.395900  0.050146  0.231975   \n",
       "86  0.248351 -0.027703 -0.219696    ...     0.182393  0.342309  0.440123   \n",
       "87 -0.223814 -0.054075  0.001461    ...    -0.210616 -0.243787 -0.049289   \n",
       "\n",
       "         121       122       123       124       125       126       127  \n",
       "78  0.405265  0.270711 -0.125565 -0.422726 -0.288835 -0.011186  0.092880  \n",
       "79 -0.173925 -0.177827 -0.243675 -0.390169 -0.315476 -0.143001 -0.040035  \n",
       "80 -0.116734 -0.051293  0.015685 -0.032523  0.029368  0.067792  0.094807  \n",
       "81  0.258867  0.125358 -0.073447 -0.110560  0.135832  0.439542  0.531822  \n",
       "82 -0.223851 -0.198429 -0.311833 -0.380063 -0.333213 -0.356975 -0.337175  \n",
       "83 -0.125878 -0.030146  0.203299  0.383061  0.450200  0.418819  0.395967  \n",
       "84  0.479814  0.358515 -0.010261 -0.429330 -0.479664 -0.098360  0.155677  \n",
       "85  0.200232  0.028843 -0.227158 -0.316074 -0.336053 -0.218164 -0.020875  \n",
       "86  0.367482  0.347422  0.421374  0.384588  0.177201 -0.201303 -0.383630  \n",
       "87  0.042373 -0.054733 -0.124652 -0.167599 -0.228585 -0.277071 -0.242084  \n",
       "\n",
       "[10 rows x 128 columns]"
      ]
     },
     "execution_count": 55,
     "metadata": {},
     "output_type": "execute_result"
    }
   ],
   "source": [
    "df_walk_x[:10]"
   ]
  },
  {
   "cell_type": "markdown",
   "metadata": {
    "collapsed": true
   },
   "source": [
    "<p> Next 10 instances <p>"
   ]
  },
  {
   "cell_type": "code",
   "execution_count": 57,
   "metadata": {
    "collapsed": false
   },
   "outputs": [
    {
     "data": {
      "text/html": [
       "<div>\n",
       "<table border=\"1\" class=\"dataframe\">\n",
       "  <thead>\n",
       "    <tr style=\"text-align: right;\">\n",
       "      <th></th>\n",
       "      <th>0</th>\n",
       "      <th>1</th>\n",
       "      <th>2</th>\n",
       "      <th>3</th>\n",
       "      <th>4</th>\n",
       "      <th>5</th>\n",
       "      <th>6</th>\n",
       "      <th>7</th>\n",
       "      <th>8</th>\n",
       "      <th>9</th>\n",
       "      <th>...</th>\n",
       "      <th>118</th>\n",
       "      <th>119</th>\n",
       "      <th>120</th>\n",
       "      <th>121</th>\n",
       "      <th>122</th>\n",
       "      <th>123</th>\n",
       "      <th>124</th>\n",
       "      <th>125</th>\n",
       "      <th>126</th>\n",
       "      <th>127</th>\n",
       "    </tr>\n",
       "  </thead>\n",
       "  <tbody>\n",
       "    <tr>\n",
       "      <th>88</th>\n",
       "      <td>-0.217331</td>\n",
       "      <td>-0.033846</td>\n",
       "      <td>0.068685</td>\n",
       "      <td>-0.008405</td>\n",
       "      <td>-0.227267</td>\n",
       "      <td>-0.248130</td>\n",
       "      <td>-0.233984</td>\n",
       "      <td>-0.311191</td>\n",
       "      <td>-0.219851</td>\n",
       "      <td>-0.114242</td>\n",
       "      <td>...</td>\n",
       "      <td>-0.274486</td>\n",
       "      <td>-0.112547</td>\n",
       "      <td>-0.014539</td>\n",
       "      <td>-0.038069</td>\n",
       "      <td>-0.126958</td>\n",
       "      <td>-0.166563</td>\n",
       "      <td>-0.104887</td>\n",
       "      <td>-0.016055</td>\n",
       "      <td>0.065415</td>\n",
       "      <td>0.109631</td>\n",
       "    </tr>\n",
       "    <tr>\n",
       "      <th>89</th>\n",
       "      <td>-0.130107</td>\n",
       "      <td>-0.059396</td>\n",
       "      <td>-0.049586</td>\n",
       "      <td>-0.104072</td>\n",
       "      <td>-0.122832</td>\n",
       "      <td>-0.038568</td>\n",
       "      <td>0.027569</td>\n",
       "      <td>0.029138</td>\n",
       "      <td>-0.022617</td>\n",
       "      <td>-0.030956</td>\n",
       "      <td>...</td>\n",
       "      <td>0.074173</td>\n",
       "      <td>0.171819</td>\n",
       "      <td>0.295630</td>\n",
       "      <td>0.341472</td>\n",
       "      <td>0.300818</td>\n",
       "      <td>0.110584</td>\n",
       "      <td>-0.050625</td>\n",
       "      <td>-0.038772</td>\n",
       "      <td>0.099262</td>\n",
       "      <td>0.322696</td>\n",
       "    </tr>\n",
       "    <tr>\n",
       "      <th>90</th>\n",
       "      <td>0.154265</td>\n",
       "      <td>0.221491</td>\n",
       "      <td>0.260284</td>\n",
       "      <td>0.253933</td>\n",
       "      <td>0.203163</td>\n",
       "      <td>0.116094</td>\n",
       "      <td>-0.016571</td>\n",
       "      <td>-0.039325</td>\n",
       "      <td>0.197180</td>\n",
       "      <td>0.499578</td>\n",
       "      <td>...</td>\n",
       "      <td>0.306480</td>\n",
       "      <td>0.102909</td>\n",
       "      <td>-0.028776</td>\n",
       "      <td>-0.202835</td>\n",
       "      <td>-0.299004</td>\n",
       "      <td>-0.258213</td>\n",
       "      <td>-0.317438</td>\n",
       "      <td>-0.398052</td>\n",
       "      <td>-0.366685</td>\n",
       "      <td>-0.358312</td>\n",
       "    </tr>\n",
       "    <tr>\n",
       "      <th>91</th>\n",
       "      <td>0.479486</td>\n",
       "      <td>0.409970</td>\n",
       "      <td>0.172794</td>\n",
       "      <td>-0.017946</td>\n",
       "      <td>-0.159512</td>\n",
       "      <td>-0.293337</td>\n",
       "      <td>-0.346210</td>\n",
       "      <td>-0.400940</td>\n",
       "      <td>-0.431375</td>\n",
       "      <td>-0.412702</td>\n",
       "      <td>...</td>\n",
       "      <td>-0.305477</td>\n",
       "      <td>-0.216438</td>\n",
       "      <td>-0.106349</td>\n",
       "      <td>-0.011715</td>\n",
       "      <td>0.117827</td>\n",
       "      <td>0.280743</td>\n",
       "      <td>0.376967</td>\n",
       "      <td>0.505515</td>\n",
       "      <td>0.523512</td>\n",
       "      <td>0.410004</td>\n",
       "    </tr>\n",
       "    <tr>\n",
       "      <th>92</th>\n",
       "      <td>-0.327476</td>\n",
       "      <td>-0.222851</td>\n",
       "      <td>-0.167394</td>\n",
       "      <td>-0.114615</td>\n",
       "      <td>0.049833</td>\n",
       "      <td>0.306757</td>\n",
       "      <td>0.465717</td>\n",
       "      <td>0.366682</td>\n",
       "      <td>0.271106</td>\n",
       "      <td>0.360794</td>\n",
       "      <td>...</td>\n",
       "      <td>0.405589</td>\n",
       "      <td>0.414778</td>\n",
       "      <td>0.268452</td>\n",
       "      <td>0.070717</td>\n",
       "      <td>-0.194390</td>\n",
       "      <td>-0.264624</td>\n",
       "      <td>-0.074129</td>\n",
       "      <td>0.034351</td>\n",
       "      <td>-0.047353</td>\n",
       "      <td>-0.153634</td>\n",
       "    </tr>\n",
       "    <tr>\n",
       "      <th>93</th>\n",
       "      <td>0.390961</td>\n",
       "      <td>0.227254</td>\n",
       "      <td>-0.090405</td>\n",
       "      <td>-0.245044</td>\n",
       "      <td>-0.150151</td>\n",
       "      <td>0.117848</td>\n",
       "      <td>0.156285</td>\n",
       "      <td>-0.047276</td>\n",
       "      <td>-0.191063</td>\n",
       "      <td>-0.317532</td>\n",
       "      <td>...</td>\n",
       "      <td>-0.021663</td>\n",
       "      <td>-0.288111</td>\n",
       "      <td>-0.439520</td>\n",
       "      <td>-0.437707</td>\n",
       "      <td>-0.235368</td>\n",
       "      <td>-0.028792</td>\n",
       "      <td>0.069758</td>\n",
       "      <td>-0.049088</td>\n",
       "      <td>-0.176514</td>\n",
       "      <td>-0.143993</td>\n",
       "    </tr>\n",
       "    <tr>\n",
       "      <th>94</th>\n",
       "      <td>-0.188378</td>\n",
       "      <td>-0.259398</td>\n",
       "      <td>-0.294942</td>\n",
       "      <td>-0.207323</td>\n",
       "      <td>-0.108518</td>\n",
       "      <td>-0.025816</td>\n",
       "      <td>-0.044634</td>\n",
       "      <td>-0.124192</td>\n",
       "      <td>-0.128066</td>\n",
       "      <td>-0.104585</td>\n",
       "      <td>...</td>\n",
       "      <td>-0.129597</td>\n",
       "      <td>-0.006450</td>\n",
       "      <td>0.090316</td>\n",
       "      <td>0.016264</td>\n",
       "      <td>-0.055586</td>\n",
       "      <td>-0.073869</td>\n",
       "      <td>0.022572</td>\n",
       "      <td>0.159572</td>\n",
       "      <td>0.190329</td>\n",
       "      <td>0.259461</td>\n",
       "    </tr>\n",
       "    <tr>\n",
       "      <th>95</th>\n",
       "      <td>-0.103690</td>\n",
       "      <td>-0.020980</td>\n",
       "      <td>-0.019794</td>\n",
       "      <td>-0.074255</td>\n",
       "      <td>-0.001778</td>\n",
       "      <td>0.077082</td>\n",
       "      <td>0.208169</td>\n",
       "      <td>0.271451</td>\n",
       "      <td>0.201743</td>\n",
       "      <td>0.238505</td>\n",
       "      <td>...</td>\n",
       "      <td>0.150526</td>\n",
       "      <td>0.280474</td>\n",
       "      <td>0.300053</td>\n",
       "      <td>0.182961</td>\n",
       "      <td>0.101841</td>\n",
       "      <td>-0.078010</td>\n",
       "      <td>-0.158314</td>\n",
       "      <td>0.009664</td>\n",
       "      <td>0.240062</td>\n",
       "      <td>0.423435</td>\n",
       "    </tr>\n",
       "    <tr>\n",
       "      <th>96</th>\n",
       "      <td>0.329154</td>\n",
       "      <td>0.246986</td>\n",
       "      <td>0.070441</td>\n",
       "      <td>-0.081146</td>\n",
       "      <td>-0.073305</td>\n",
       "      <td>0.129004</td>\n",
       "      <td>0.342846</td>\n",
       "      <td>0.384253</td>\n",
       "      <td>0.236419</td>\n",
       "      <td>0.015438</td>\n",
       "      <td>...</td>\n",
       "      <td>-0.231301</td>\n",
       "      <td>-0.178254</td>\n",
       "      <td>-0.016809</td>\n",
       "      <td>0.214378</td>\n",
       "      <td>0.320284</td>\n",
       "      <td>0.217840</td>\n",
       "      <td>0.155005</td>\n",
       "      <td>0.120757</td>\n",
       "      <td>0.039330</td>\n",
       "      <td>0.003503</td>\n",
       "    </tr>\n",
       "    <tr>\n",
       "      <th>97</th>\n",
       "      <td>0.399252</td>\n",
       "      <td>0.178368</td>\n",
       "      <td>-0.035989</td>\n",
       "      <td>-0.121425</td>\n",
       "      <td>-0.066831</td>\n",
       "      <td>-0.060099</td>\n",
       "      <td>-0.160440</td>\n",
       "      <td>-0.255293</td>\n",
       "      <td>-0.369520</td>\n",
       "      <td>-0.394303</td>\n",
       "      <td>...</td>\n",
       "      <td>0.236353</td>\n",
       "      <td>0.149738</td>\n",
       "      <td>0.128293</td>\n",
       "      <td>0.079732</td>\n",
       "      <td>0.013614</td>\n",
       "      <td>0.033423</td>\n",
       "      <td>-0.002987</td>\n",
       "      <td>-0.073468</td>\n",
       "      <td>-0.194248</td>\n",
       "      <td>-0.321259</td>\n",
       "    </tr>\n",
       "  </tbody>\n",
       "</table>\n",
       "<p>10 rows × 128 columns</p>\n",
       "</div>"
      ],
      "text/plain": [
       "         0         1         2         3         4         5         6    \\\n",
       "88 -0.217331 -0.033846  0.068685 -0.008405 -0.227267 -0.248130 -0.233984   \n",
       "89 -0.130107 -0.059396 -0.049586 -0.104072 -0.122832 -0.038568  0.027569   \n",
       "90  0.154265  0.221491  0.260284  0.253933  0.203163  0.116094 -0.016571   \n",
       "91  0.479486  0.409970  0.172794 -0.017946 -0.159512 -0.293337 -0.346210   \n",
       "92 -0.327476 -0.222851 -0.167394 -0.114615  0.049833  0.306757  0.465717   \n",
       "93  0.390961  0.227254 -0.090405 -0.245044 -0.150151  0.117848  0.156285   \n",
       "94 -0.188378 -0.259398 -0.294942 -0.207323 -0.108518 -0.025816 -0.044634   \n",
       "95 -0.103690 -0.020980 -0.019794 -0.074255 -0.001778  0.077082  0.208169   \n",
       "96  0.329154  0.246986  0.070441 -0.081146 -0.073305  0.129004  0.342846   \n",
       "97  0.399252  0.178368 -0.035989 -0.121425 -0.066831 -0.060099 -0.160440   \n",
       "\n",
       "         7         8         9      ...          118       119       120  \\\n",
       "88 -0.311191 -0.219851 -0.114242    ...    -0.274486 -0.112547 -0.014539   \n",
       "89  0.029138 -0.022617 -0.030956    ...     0.074173  0.171819  0.295630   \n",
       "90 -0.039325  0.197180  0.499578    ...     0.306480  0.102909 -0.028776   \n",
       "91 -0.400940 -0.431375 -0.412702    ...    -0.305477 -0.216438 -0.106349   \n",
       "92  0.366682  0.271106  0.360794    ...     0.405589  0.414778  0.268452   \n",
       "93 -0.047276 -0.191063 -0.317532    ...    -0.021663 -0.288111 -0.439520   \n",
       "94 -0.124192 -0.128066 -0.104585    ...    -0.129597 -0.006450  0.090316   \n",
       "95  0.271451  0.201743  0.238505    ...     0.150526  0.280474  0.300053   \n",
       "96  0.384253  0.236419  0.015438    ...    -0.231301 -0.178254 -0.016809   \n",
       "97 -0.255293 -0.369520 -0.394303    ...     0.236353  0.149738  0.128293   \n",
       "\n",
       "         121       122       123       124       125       126       127  \n",
       "88 -0.038069 -0.126958 -0.166563 -0.104887 -0.016055  0.065415  0.109631  \n",
       "89  0.341472  0.300818  0.110584 -0.050625 -0.038772  0.099262  0.322696  \n",
       "90 -0.202835 -0.299004 -0.258213 -0.317438 -0.398052 -0.366685 -0.358312  \n",
       "91 -0.011715  0.117827  0.280743  0.376967  0.505515  0.523512  0.410004  \n",
       "92  0.070717 -0.194390 -0.264624 -0.074129  0.034351 -0.047353 -0.153634  \n",
       "93 -0.437707 -0.235368 -0.028792  0.069758 -0.049088 -0.176514 -0.143993  \n",
       "94  0.016264 -0.055586 -0.073869  0.022572  0.159572  0.190329  0.259461  \n",
       "95  0.182961  0.101841 -0.078010 -0.158314  0.009664  0.240062  0.423435  \n",
       "96  0.214378  0.320284  0.217840  0.155005  0.120757  0.039330  0.003503  \n",
       "97  0.079732  0.013614  0.033423 -0.002987 -0.073468 -0.194248 -0.321259  \n",
       "\n",
       "[10 rows x 128 columns]"
      ]
     },
     "execution_count": 57,
     "metadata": {},
     "output_type": "execute_result"
    }
   ],
   "source": [
    "df_walk_x[10:20]"
   ]
  },
  {
   "cell_type": "markdown",
   "metadata": {},
   "source": [
    "<h4> Generalized method </h4>"
   ]
  },
  {
   "cell_type": "code",
   "execution_count": 58,
   "metadata": {
    "collapsed": false
   },
   "outputs": [
    {
     "data": {
      "text/html": [
       "<div>\n",
       "<table border=\"1\" class=\"dataframe\">\n",
       "  <thead>\n",
       "    <tr style=\"text-align: right;\">\n",
       "      <th></th>\n",
       "      <th>0</th>\n",
       "      <th>1</th>\n",
       "      <th>2</th>\n",
       "      <th>3</th>\n",
       "      <th>4</th>\n",
       "      <th>5</th>\n",
       "      <th>6</th>\n",
       "      <th>7</th>\n",
       "      <th>8</th>\n",
       "      <th>9</th>\n",
       "      <th>...</th>\n",
       "      <th>118</th>\n",
       "      <th>119</th>\n",
       "      <th>120</th>\n",
       "      <th>121</th>\n",
       "      <th>122</th>\n",
       "      <th>123</th>\n",
       "      <th>124</th>\n",
       "      <th>125</th>\n",
       "      <th>126</th>\n",
       "      <th>127</th>\n",
       "    </tr>\n",
       "  </thead>\n",
       "  <tbody>\n",
       "    <tr>\n",
       "      <th>78</th>\n",
       "      <td>0.376798</td>\n",
       "      <td>0.382064</td>\n",
       "      <td>0.119208</td>\n",
       "      <td>-0.289914</td>\n",
       "      <td>-0.315472</td>\n",
       "      <td>-0.083072</td>\n",
       "      <td>0.023282</td>\n",
       "      <td>0.009530</td>\n",
       "      <td>-0.050622</td>\n",
       "      <td>-0.069714</td>\n",
       "      <td>...</td>\n",
       "      <td>0.328153</td>\n",
       "      <td>0.344551</td>\n",
       "      <td>0.398876</td>\n",
       "      <td>0.405265</td>\n",
       "      <td>0.270711</td>\n",
       "      <td>-0.125565</td>\n",
       "      <td>-0.422726</td>\n",
       "      <td>-0.288835</td>\n",
       "      <td>-0.011186</td>\n",
       "      <td>0.092880</td>\n",
       "    </tr>\n",
       "    <tr>\n",
       "      <th>79</th>\n",
       "      <td>0.423367</td>\n",
       "      <td>0.493977</td>\n",
       "      <td>0.303323</td>\n",
       "      <td>-0.028609</td>\n",
       "      <td>-0.311065</td>\n",
       "      <td>-0.353213</td>\n",
       "      <td>-0.191994</td>\n",
       "      <td>-0.029289</td>\n",
       "      <td>0.037625</td>\n",
       "      <td>0.040067</td>\n",
       "      <td>...</td>\n",
       "      <td>0.050554</td>\n",
       "      <td>0.015661</td>\n",
       "      <td>-0.064304</td>\n",
       "      <td>-0.173925</td>\n",
       "      <td>-0.177827</td>\n",
       "      <td>-0.243675</td>\n",
       "      <td>-0.390169</td>\n",
       "      <td>-0.315476</td>\n",
       "      <td>-0.143001</td>\n",
       "      <td>-0.040035</td>\n",
       "    </tr>\n",
       "  </tbody>\n",
       "</table>\n",
       "<p>2 rows × 128 columns</p>\n",
       "</div>"
      ],
      "text/plain": [
       "         0         1         2         3         4         5         6    \\\n",
       "78  0.376798  0.382064  0.119208 -0.289914 -0.315472 -0.083072  0.023282   \n",
       "79  0.423367  0.493977  0.303323 -0.028609 -0.311065 -0.353213 -0.191994   \n",
       "\n",
       "         7         8         9      ...          118       119       120  \\\n",
       "78  0.009530 -0.050622 -0.069714    ...     0.328153  0.344551  0.398876   \n",
       "79 -0.029289  0.037625  0.040067    ...     0.050554  0.015661 -0.064304   \n",
       "\n",
       "         121       122       123       124       125       126       127  \n",
       "78  0.405265  0.270711 -0.125565 -0.422726 -0.288835 -0.011186  0.092880  \n",
       "79 -0.173925 -0.177827 -0.243675 -0.390169 -0.315476 -0.143001 -0.040035  \n",
       "\n",
       "[2 rows x 128 columns]"
      ]
     },
     "execution_count": 58,
     "metadata": {},
     "output_type": "execute_result"
    }
   ],
   "source": [
    "def getInstances(dataFrame, beg, end):\n",
    "    return dataFrame[beg:end]\n",
    "\n",
    "getInstances(df_walk_x,0,2)"
   ]
  },
  {
   "cell_type": "code",
   "execution_count": null,
   "metadata": {
    "collapsed": true
   },
   "outputs": [],
   "source": [
    "<h2> Mean values function </h2>>>"
   ]
  },
  {
   "cell_type": "code",
   "execution_count": 75,
   "metadata": {
    "collapsed": false
   },
   "outputs": [],
   "source": [
    "def getMeanValues(data_frame, start, size):\n",
    "    res = []\n",
    "    for i in range(start, start + size):\n",
    "        res.append(data_frame.iloc[i].mean())\n",
    "    return res\n"
   ]
  },
  {
   "cell_type": "markdown",
   "metadata": {},
   "source": [
    "<h3> Plot mean values from walking, standing and sitting</h3>\n",
    "<p>Blue: walking Red: Standing, Yellow: Sitting<p>"
   ]
  },
  {
   "cell_type": "code",
   "execution_count": 77,
   "metadata": {
    "collapsed": false
   },
   "outputs": [
    {
     "data": {
      "image/png": "[encoded data removed]",
      "text/plain": [
       "<matplotlib.figure.Figure at 0x7f792c9532d0>"
      ]
     },
     "metadata": {},
     "output_type": "display_data"
    }
   ],
   "source": [
    "start = 500\n",
    "size = 100\n",
    "\n",
    "df_walk_mean_x = getMeanValues(df_walk_x, start, size)\n",
    "df_walk_mean_y = getMeanValues(df_walk_y, start, size)\n",
    "df_walk_mean_z = getMeanValues(df_walk_z, start, size)\n",
    "\n",
    "df_standing_mean_x = getMeanValues(df_standing_x, start, size)\n",
    "df_standing_mean_y = getMeanValues(df_standing_y, start, size)\n",
    "df_standing_mean_z = getMeanValues(df_standing_z, start, size)\n",
    "\n",
    "df_sitting_mean_x = getMeanValues(df_sitting_x, start, size)\n",
    "df_sitting_mean_y = getMeanValues(df_sitting_y, start, size)\n",
    "df_sitting_mean_z = getMeanValues(df_sitting_z, start, size)\n",
    "\n",
    "from mpl_toolkits.mplot3d import Axes3D\n",
    "threedee = plt.figure().gca(projection='3d')\n",
    "for i in range(0,len(df_walk_mean_x)):\n",
    "    threedee.scatter(df_walk_mean_x[i], df_walk_mean_y[i],df_walk_mean_z[i],c = \"r\")\n",
    "    threedee.scatter(df_standing_mean_x[i], df_standing_mean_y[i],df_standing_mean_z[i],c = \"b\")\n",
    "    threedee.scatter(df_sitting_mean_x[i], df_sitting_mean_y[i],df_sitting_mean_z[i],c = \"y\")\n",
    "threedee.set_xlabel('X')\n",
    "threedee.set_ylabel('Y')\n",
    "threedee.set_zlabel('Z')\n",
    "#threedee.azim = 200\n",
    "#threedee.elev = -45\n",
    "plt.show()\n"
   ]
  },
  {
   "cell_type": "code",
   "execution_count": null,
   "metadata": {
    "collapsed": true
   },
   "outputs": [],
   "source": []
  }
 ],
 "metadata": {
  "kernelspec": {
   "display_name": "Python 2",
   "language": "python",
   "name": "python2"
  },
  "language_info": {
   "codemirror_mode": {
    "name": "ipython",
    "version": 2
   },
   "file_extension": ".py",
   "mimetype": "text/x-python",
   "name": "python",
   "nbconvert_exporter": "python",
   "pygments_lexer": "ipython2",
   "version": "2.7.6"
  }
 },
 "nbformat": 4,
 "nbformat_minor": 0
}
