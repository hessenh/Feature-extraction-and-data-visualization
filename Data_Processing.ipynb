{
 "cells": [
  {
   "cell_type": "markdown",
   "metadata": {},
   "source": [
    "<h1>Creating sliding windows</h1>"
   ]
  },
  {
   "cell_type": "markdown",
   "metadata": {},
   "source": [
    "<p>A sliding window is a way to reduce the amount of data and makes it easier for us to extract properties of the data<p>\n",
    "<p>In this notebook we are going to create these windows<p>"
   ]
  },
  {
   "cell_type": "code",
   "execution_count": 27,
   "metadata": {
    "collapsed": false
   },
   "outputs": [],
   "source": [
    "import numpy as np\n",
    "import pandas as pd\n",
    "from Sliding import *\n",
    "from os import path\n",
    "\n",
    "'''\n",
    "Using the Sliding file to create a the windows\n",
    "'''\n",
    "def extract_axis(df, size, overlap):\n",
    "    df = df.values.tolist();\n",
    "    df = np.array(df)\n",
    "    df_windows = sliding_window(df, size, overlap)\n",
    "\n",
    "    df_windows = pd.DataFrame(df_windows)\n",
    "    return df_windows\n",
    "    \n",
    "    \n",
    "    \n",
    "'''\n",
    "Creates a dataframe with every Nth value. This is done to match the windows. \n",
    "This may be a naive approach, because we could lose information.. \n",
    "??? If less than 80% have the same lable, lable the window as transition ??? \n",
    "Original: [1,2,3,4,5,6,7]\n",
    "New: [1,3,5,7]\n",
    "'''\n",
    "def extract_label(df, size, overlap):\n",
    "    df = df.values.tolist();\n",
    "    df = np.array(df)\n",
    "    step = size/2\n",
    "    df_windows = df[step::step]\n",
    "    df_windows = pd.DataFrame(df_windows)\n",
    "    return df_windows\n",
    "    \n",
    "    \n",
    "    \n",
    "def create_sliding_window(path, filename, seperator, size, overlap, num_of_axis):\n",
    "    \n",
    "    axis = [\"X\", \"Y\", \"Z\"]\n",
    "    \n",
    "    pd.set_option('html',False)\n",
    "\n",
    "    f = path + filename + '.csv'\n",
    "    \n",
    "    df = pd.read_csv(f, header=None, sep=seperator)\n",
    "    \n",
    "    for i in range(num_of_axis):\n",
    "       \n",
    "        # Acc - xyz\n",
    "        if num_of_axis > 1:\n",
    "            df_windows = extract_axis(df[i], size, overlap)\n",
    "            file_name_axis = filename + \"_\"+ axis[i] + \".csv\"\n",
    "            \n",
    "        # Label\n",
    "        else: \n",
    "            df_windows = extract_label(df[i], size, overlap)\n",
    "            file_name_axis = filename + \"_L.csv\"\n",
    "        \n",
    "    \n",
    "        df_windows.to_csv(file_name_axis,  header=None, index=False)\n",
    "\n",
    "\n"
   ]
  },
  {
   "cell_type": "markdown",
   "metadata": {},
   "source": [
    "<h1>Chest</h1>"
   ]
  },
  {
   "cell_type": "code",
   "execution_count": 28,
   "metadata": {
    "collapsed": false
   },
   "outputs": [],
   "source": [
    "p = path.relpath('data/P03/')\n",
    "filename = 'PO3_CHEST'\n",
    "seperator = '\\,'\n",
    "size = 100\n",
    "overlap = 50\n",
    "\n",
    "#create_sliding_window(p, filename, seperator, size, overlap, 3)"
   ]
  },
  {
   "cell_type": "markdown",
   "metadata": {},
   "source": [
    "<h1>Thigh</h1>"
   ]
  },
  {
   "cell_type": "code",
   "execution_count": 29,
   "metadata": {
    "collapsed": false
   },
   "outputs": [],
   "source": [
    "p = path.relpath('data/P03/')\n",
    "filename = 'PO3_THIGH'\n",
    "seperator = '\\,'\n",
    "size = 100\n",
    "overlap = 50\n",
    "\n",
    "#create_sliding_window(p, filename, seperator, size, overlap, 3)"
   ]
  },
  {
   "cell_type": "markdown",
   "metadata": {},
   "source": [
    "<h1>LABELS</h1>"
   ]
  },
  {
   "cell_type": "code",
   "execution_count": 30,
   "metadata": {
    "collapsed": false
   },
   "outputs": [],
   "source": [
    "p = path.relpath('data/P03/')\n",
    "filename = 'P03_LABEL'\n",
    "seperator = '\\,'\n",
    "size = 100\n",
    "overlap = 50\n",
    "\n",
    "#create_sliding_window(p, filename, seperator, size, overlap, 1)"
   ]
  },
  {
   "cell_type": "markdown",
   "metadata": {
    "collapsed": true
   },
   "source": [
    "<h1>Create more generalized labels</h1>"
   ]
  },
  {
   "cell_type": "markdown",
   "metadata": {},
   "source": [
    "<p>1: Walking: Dynamic<p>\n",
    "<p>2: Walking with transitions: Dynamic<p>\n",
    "<p>3: Shuffeling: Dynamic<p>\n",
    "<p>4: Stairs(acc): Dynamic<p>\n",
    "<p>5: Stairs(dec): Dynamic<p>\n",
    "<p>6: Standing: Static<p>\n",
    "<p>7: Sitting: Static<p>\n",
    "<p>8: Lying: Static<p>\n",
    "<p>9: Transition: Dynamic<p>\n",
    "<p>10: Leaning: Static<p>\n",
    "<p>11: Undefined: Undefined<p>\n",
    "<p>12: Jumping: Dynamic<p>\n",
    "<p>13: Dynamic: Dynamic<p>\n",
    "<p>14: Static: Static<p>\n",
    "<br>\n",
    "<p>Dynamic:1, Static:2, Undefined 3<p>"
   ]
  },
  {
   "cell_type": "code",
   "execution_count": 50,
   "metadata": {
    "collapsed": false
   },
   "outputs": [],
   "source": [
    "# Changing labels from spesific label to generalized labe, eg. walking => Dynamic\n",
    "\n",
    "change_list = [1,1,1,1,1,2,2,2,1,2,3,1,1,2]\n",
    "f_p = path.relpath('data/P03_DATA_WINDOW/')\n",
    "f_filename = '/P03_LABEL_L.csv'\n",
    "t_p = path.relpath('data/GENERALIZED/')\n",
    "t_filename = '/P03_LABEL_L.csv'\n",
    "\n",
    "\n",
    "def generalize(convertion_list, f_filename, f_p, t_filename, t_p):\n",
    "    df = pd.read_csv(f_p + f_filename, header=None, sep=seperator)\n",
    "\n",
    "    for i in range(len(convertion_list)):\n",
    "        df[0][df[0]==i+1] = convertion_list[i] \n",
    "    df.to_csv(t_p + t_filename,  header=None, index=False)\n",
    "\n",
    "\n",
    "#generalize(change_list, f_filename, f_p, t_filename, t_p)\n",
    "\n",
    "\n"
   ]
  },
  {
   "cell_type": "code",
   "execution_count": null,
   "metadata": {
    "collapsed": true
   },
   "outputs": [],
   "source": []
  },
  {
   "cell_type": "code",
   "execution_count": null,
   "metadata": {
    "collapsed": true
   },
   "outputs": [],
   "source": []
  },
  {
   "cell_type": "code",
   "execution_count": null,
   "metadata": {
    "collapsed": true
   },
   "outputs": [],
   "source": []
  },
  {
   "cell_type": "code",
   "execution_count": null,
   "metadata": {
    "collapsed": true
   },
   "outputs": [],
   "source": []
  }
 ],
 "metadata": {
  "kernelspec": {
   "display_name": "Python 2",
   "language": "python",
   "name": "python2"
  },
  "language_info": {
   "codemirror_mode": {
    "name": "ipython",
    "version": 2
   },
   "file_extension": ".py",
   "mimetype": "text/x-python",
   "name": "python",
   "nbconvert_exporter": "python",
   "pygments_lexer": "ipython2",
   "version": "2.7.6"
  }
 },
 "nbformat": 4,
 "nbformat_minor": 0
}
