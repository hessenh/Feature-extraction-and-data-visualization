{
 "cells": [
  {
   "cell_type": "markdown",
   "metadata": {},
   "source": [
    "<h1>Creating sliding windows</h1>"
   ]
  },
  {
   "cell_type": "markdown",
   "metadata": {},
   "source": [
    "<p>A sliding window is a way to reduce the amount of data and makes it easier for us to extract properties of the data<p>\n",
    "<p>In this notebook we are going to create these windows<p>"
   ]
  },
  {
   "cell_type": "code",
   "execution_count": 40,
   "metadata": {
    "collapsed": false
   },
   "outputs": [],
   "source": [
    "import numpy as np\n",
    "import pandas as pd\n",
    "pd.set_option('html',False)\n",
    "\n",
    "CHEST = '/home/hessenh/Development/Prosjektoppgave/Notebook/data/P03/PO3_CHEST.csv'\n",
    "#THIGH = '/home/hessenh/Development/Prosjektoppgave/Notebook/data/P03/PO3_THIGH.csv'\n",
    "#LABEL = '/home/hessenh/Development/Prosjektoppgave/Notebook/data/P03/P03_LABEL2.csv'\n",
    "\n",
    "df_chest = pd.read_csv(CHEST, header=None, sep='\\,')\n",
    "#df_thigh = pd.read_csv(THIGH, header=None, sep='\\,')\n",
    "#df_label = pd.read_csv(LABEL, header=None, sep='\\ ')\n"
   ]
  },
  {
   "cell_type": "code",
   "execution_count": 41,
   "metadata": {
    "collapsed": false
   },
   "outputs": [],
   "source": [
    "df_chest_x = df_chest[0].values.tolist();\n",
    "#df_chest_y = df_chest[1].values.tolist();\n",
    "#df_chest_z = df_chest[2].values.tolist();\n"
   ]
  },
  {
   "cell_type": "code",
   "execution_count": 42,
   "metadata": {
    "collapsed": false
   },
   "outputs": [
    {
     "name": "stdout",
     "output_type": "stream",
     "text": [
      "      0      1      2      3      4      5      6      7      8      9   \\\n",
      "0 -0.044 -0.032 -0.023 -0.015 -0.012 -0.009 -0.015 -0.018 -0.029 -0.038   \n",
      "1 -0.375 -0.375 -0.311 -0.208 -0.135 -0.088 -0.026  0.029  0.003 -0.029   \n",
      "2  0.499  0.531  0.525  0.455  0.323  0.126 -0.109 -0.305 -0.343 -0.282   \n",
      "3 -1.886 -2.176 -2.402 -2.557 -2.601 -2.581 -2.525 -2.425 -2.273 -2.085   \n",
      "4 -1.572 -1.320 -1.082 -0.859 -0.666 -0.431 -0.205 -0.029  0.114  0.249   \n",
      "\n",
      "   ...       90     91     92     93     94     95     96     97     98     99  \n",
      "0  ...    0.150  0.150  0.155  0.150  0.152  0.135  0.126  0.170  0.296  0.405  \n",
      "1  ...    1.739  1.516  1.235  0.903  0.592  0.252 -0.164 -0.622 -1.094 -1.516  \n",
      "2  ...   -1.894 -2.144 -2.346 -2.499 -2.545 -2.510 -2.408 -2.264 -2.082 -1.845  \n",
      "3  ...   -2.100 -2.029 -1.915 -1.777 -1.613 -1.425 -1.199 -0.968 -0.768 -0.560  \n",
      "4  ...   -0.862 -0.672 -0.475 -0.328 -0.267 -0.194 -0.029  0.199  0.434  0.698  \n",
      "\n",
      "[5 rows x 100 columns]\n"
     ]
    }
   ],
   "source": [
    "from Sliding import *\n",
    "df_chest_x = np.array(df_chest_x)\n",
    "df_chest_x_windows = sliding_window(df_chest_x, 100, 50)\n",
    "\n",
    "df_chest_x_windows_df = pd.DataFrame(df_chest_x_windows)\n",
    "print df_chest_x_windows_df.head()\n",
    "file_name = \"PO3_CHEST_X.csv\"\n",
    "df_chest_x_windows_df.to_csv(file_name,  header=None, index=False)"
   ]
  },
  {
   "cell_type": "code",
   "execution_count": 48,
   "metadata": {
    "collapsed": false
   },
   "outputs": [],
   "source": [
    "import numpy as np\n",
    "import pandas as pd\n",
    "from Sliding import *\n",
    "    \n",
    "def create_sliding_window(path, filename, seperator, size, overlap):\n",
    "   \n",
    "    pd.set_option('html',False)\n",
    "\n",
    "    f = path + filename + '.csv'\n",
    "    \n",
    "    df = pd.read_csv(f, header=None, sep=seperator)\n",
    "    \n",
    "    df_x = df_chest[0].values.tolist();\n",
    "    df_y = df_chest[1].values.tolist();\n",
    "    df_z = df_chest[2].values.tolist();\n",
    "    \n",
    "   \n",
    "    df_x = np.array(df_chest_x)\n",
    "    df_y = np.array(df_chest_y)\n",
    "    df_z = np.array(df_chest_z)\n",
    "    \n",
    "    \n",
    "    df_x_windows = sliding_window(df_x, size, overlap)\n",
    "    df_y_windows = sliding_window(df_y, size, overlap)\n",
    "    df_z_windows = sliding_window(df_z, size, overlap)\n",
    "\n",
    "    df_x_windows_df = pd.DataFrame(df_x_windows)\n",
    "    df_y_windows_df = pd.DataFrame(df_y_windows)\n",
    "    df_z_windows_df = pd.DataFrame(df_z_windows)\n",
    "    \n",
    "    file_name_x = filename + \"_X.csv\"\n",
    "    file_name_y = filename + \"_Y.csv\"\n",
    "    file_name_z = filename + \"_Z.csv\"\n",
    "    \n",
    "    df_x_windows_df.to_csv(file_name_x,  header=None, index=False)\n",
    "    df_y_windows_df.to_csv(file_name_y,  header=None, index=False)\n",
    "    df_z_windows_df.to_csv(file_name_z,  header=None, index=False)\n"
   ]
  },
  {
   "cell_type": "code",
   "execution_count": 49,
   "metadata": {
    "collapsed": true
   },
   "outputs": [],
   "source": [
    "path = '/home/hessenh/Development/Prosjektoppgave/Notebook/data/P03/'\n",
    "filename = 'PO3_CHEST'\n",
    "seperator = '\\,'\n",
    "size = 100\n",
    "overlap = 50\n",
    "\n",
    "create_sliding_window(path, filename, seperator, size, overlap)"
   ]
  },
  {
   "cell_type": "code",
   "execution_count": 50,
   "metadata": {
    "collapsed": true
   },
   "outputs": [],
   "source": [
    "path = '/home/hessenh/Development/Prosjektoppgave/Notebook/data/P03/'\n",
    "filename = 'PO3_THIGH'\n",
    "seperator = '\\,'\n",
    "size = 100\n",
    "overlap = 50\n",
    "\n",
    "create_sliding_window(path, filename, seperator, size, overlap)"
   ]
  },
  {
   "cell_type": "code",
   "execution_count": null,
   "metadata": {
    "collapsed": true
   },
   "outputs": [],
   "source": []
  }
 ],
 "metadata": {
  "kernelspec": {
   "display_name": "Python 2",
   "language": "python",
   "name": "python2"
  },
  "language_info": {
   "codemirror_mode": {
    "name": "ipython",
    "version": 2
   },
   "file_extension": ".py",
   "mimetype": "text/x-python",
   "name": "python",
   "nbconvert_exporter": "python",
   "pygments_lexer": "ipython2",
   "version": "2.7.6"
  }
 },
 "nbformat": 4,
 "nbformat_minor": 0
}
