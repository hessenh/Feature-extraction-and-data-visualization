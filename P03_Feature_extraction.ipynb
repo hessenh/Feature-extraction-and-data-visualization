{
 "cells": [
  {
   "cell_type": "code",
   "execution_count": 1,
   "metadata": {
    "collapsed": true
   },
   "outputs": [],
   "source": [
    "import numpy as np\n",
    "import pandas as pd\n",
    "pd.set_option('html',False)"
   ]
  },
  {
   "cell_type": "code",
   "execution_count": 3,
   "metadata": {
    "collapsed": false
   },
   "outputs": [],
   "source": [
    "CHEST = '/home/hessenh/Development/Prosjektoppgave/Notebook/data/P03/PO3_CHEST.csv'\n",
    "THIGH = '/home/hessenh/Development/Prosjektoppgave/Notebook/data/P03/PO3_THIGH.csv'\n",
    "LABEL = '/home/hessenh/Development/Prosjektoppgave/Notebook/data/P03/P03_LABEL2.csv'\n",
    "\n",
    "df_chest = pd.read_csv(CHEST, header=None, sep='\\,')\n",
    "df_thigh = pd.read_csv(THIGH, header=None, sep='\\,')\n",
    "df_label = pd.read_csv(LABEL, header=None, sep='\\ ')\n"
   ]
  },
  {
   "cell_type": "code",
   "execution_count": null,
   "metadata": {
    "collapsed": true
   },
   "outputs": [],
   "source": [
    "<h1>Creating "
   ]
  },
  {
   "cell_type": "code",
   "execution_count": null,
   "metadata": {
    "collapsed": true
   },
   "outputs": [],
   "source": [
    "start = 190000 #int(len(df_label)* 0.75)\n",
    "length = 10000\n",
    "df_chest = df_chest[start:start + length] + 15\n",
    "df_thigh = df_thigh[start:start + length] + 20\n",
    "df_label = df_label[start:start + length]"
   ]
  }
 ],
 "metadata": {
  "kernelspec": {
   "display_name": "Python 2",
   "language": "python",
   "name": "python2"
  },
  "language_info": {
   "codemirror_mode": {
    "name": "ipython",
    "version": 2
   },
   "file_extension": ".py",
   "mimetype": "text/x-python",
   "name": "python",
   "nbconvert_exporter": "python",
   "pygments_lexer": "ipython2",
   "version": "2.7.6"
  }
 },
 "nbformat": 4,
 "nbformat_minor": 0
}
