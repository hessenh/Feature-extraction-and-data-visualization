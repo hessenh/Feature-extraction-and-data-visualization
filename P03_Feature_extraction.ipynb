{
 "cells": [
  {
   "cell_type": "markdown",
   "metadata": {},
   "source": [
    "<h1>Feature extraction subject P03 </h1>"
   ]
  },
  {
   "cell_type": "code",
   "execution_count": 80,
   "metadata": {
    "collapsed": true
   },
   "outputs": [],
   "source": [
    "import numpy as np\n",
    "import pandas as pd\n",
    "pd.set_option('html',False)"
   ]
  },
  {
   "cell_type": "code",
   "execution_count": 86,
   "metadata": {
    "collapsed": false
   },
   "outputs": [
    {
     "ename": "NameError",
     "evalue": "name 'thigh_X' is not defined",
     "output_type": "error",
     "traceback": [
      "\u001b[1;31m---------------------------------------------------------------------------\u001b[0m",
      "\u001b[1;31mNameError\u001b[0m                                 Traceback (most recent call last)",
      "\u001b[1;32m<ipython-input-86-8bef15611bc9>\u001b[0m in \u001b[0;36m<module>\u001b[1;34m()\u001b[0m\n\u001b[0;32m     13\u001b[0m \u001b[0mdf_chest_z\u001b[0m \u001b[1;33m=\u001b[0m \u001b[0mpd\u001b[0m\u001b[1;33m.\u001b[0m\u001b[0mread_csv\u001b[0m\u001b[1;33m(\u001b[0m\u001b[0mCHEST_Z\u001b[0m\u001b[1;33m,\u001b[0m \u001b[0mheader\u001b[0m\u001b[1;33m=\u001b[0m\u001b[0mNone\u001b[0m\u001b[1;33m,\u001b[0m \u001b[0msep\u001b[0m\u001b[1;33m=\u001b[0m\u001b[1;34m'\\,'\u001b[0m\u001b[1;33m)\u001b[0m\u001b[1;33m\u001b[0m\u001b[0m\n\u001b[0;32m     14\u001b[0m \u001b[1;33m\u001b[0m\u001b[0m\n\u001b[1;32m---> 15\u001b[1;33m \u001b[0mdf_thigh_x\u001b[0m \u001b[1;33m=\u001b[0m \u001b[0mpd\u001b[0m\u001b[1;33m.\u001b[0m\u001b[0mread_csv\u001b[0m\u001b[1;33m(\u001b[0m\u001b[0mthigh_X\u001b[0m\u001b[1;33m,\u001b[0m \u001b[0mheader\u001b[0m\u001b[1;33m=\u001b[0m\u001b[0mNone\u001b[0m\u001b[1;33m,\u001b[0m \u001b[0msep\u001b[0m\u001b[1;33m=\u001b[0m\u001b[1;34m'\\,'\u001b[0m\u001b[1;33m)\u001b[0m\u001b[1;33m\u001b[0m\u001b[0m\n\u001b[0m\u001b[0;32m     16\u001b[0m \u001b[0mdf_thigh_y\u001b[0m \u001b[1;33m=\u001b[0m \u001b[0mpd\u001b[0m\u001b[1;33m.\u001b[0m\u001b[0mread_csv\u001b[0m\u001b[1;33m(\u001b[0m\u001b[0mthigh_Y\u001b[0m\u001b[1;33m,\u001b[0m \u001b[0mheader\u001b[0m\u001b[1;33m=\u001b[0m\u001b[0mNone\u001b[0m\u001b[1;33m,\u001b[0m \u001b[0msep\u001b[0m\u001b[1;33m=\u001b[0m\u001b[1;34m'\\,'\u001b[0m\u001b[1;33m)\u001b[0m\u001b[1;33m\u001b[0m\u001b[0m\n\u001b[0;32m     17\u001b[0m \u001b[0mdf_thigh_z\u001b[0m \u001b[1;33m=\u001b[0m \u001b[0mpd\u001b[0m\u001b[1;33m.\u001b[0m\u001b[0mread_csv\u001b[0m\u001b[1;33m(\u001b[0m\u001b[0mthigh_Z\u001b[0m\u001b[1;33m,\u001b[0m \u001b[0mheader\u001b[0m\u001b[1;33m=\u001b[0m\u001b[0mNone\u001b[0m\u001b[1;33m,\u001b[0m \u001b[0msep\u001b[0m\u001b[1;33m=\u001b[0m\u001b[1;34m'\\,'\u001b[0m\u001b[1;33m)\u001b[0m\u001b[1;33m\u001b[0m\u001b[0m\n",
      "\u001b[1;31mNameError\u001b[0m: name 'thigh_X' is not defined"
     ]
    }
   ],
   "source": [
    "CHEST_X = '/home/hessenh/Development/Prosjektoppgave/Notebook/data/P03_DATA_WINDOW/PO3_CHEST_X.csv'\n",
    "CHEST_Y = '/home/hessenh/Development/Prosjektoppgave/Notebook/data/P03_DATA_WINDOW/PO3_CHEST_Y.csv'\n",
    "CHEST_Z = '/home/hessenh/Development/Prosjektoppgave/Notebook/data/P03_DATA_WINDOW/PO3_CHEST_Z.csv'\n",
    "\n",
    "THIGH_X = '/home/hessenh/Development/Prosjektoppgave/Notebook/data/P03_DATA_WINDOW/PO3_THIGH_X.csv'\n",
    "THIGH_Y = '/home/hessenh/Development/Prosjektoppgave/Notebook/data/P03_DATA_WINDOW/PO3_THIGH_Y.csv'\n",
    "THIGH_Z = '/home/hessenh/Development/Prosjektoppgave/Notebook/data/P03_DATA_WINDOW/PO3_THIGH_Z.csv'\n",
    "\n",
    "LABEL = '/home/hessenh/Development/Prosjektoppgave/Notebook/data/P03_DATA_WINDOW/P03_LABEL_L.csv'\n",
    "\n",
    "df_chest_x = pd.read_csv(CHEST_X, header=None, sep='\\,')\n",
    "df_chest_y = pd.read_csv(CHEST_Y, header=None, sep='\\,')\n",
    "df_chest_z = pd.read_csv(CHEST_Z, header=None, sep='\\,')\n",
    "\n",
    "df_thigh_x = pd.read_csv(THIGH_X, header=None, sep='\\,')\n",
    "df_thigh_y = pd.read_csv(THIGH_Y, header=None, sep='\\,')\n",
    "df_thigh_z = pd.read_csv(THIGH_Z, header=None, sep='\\,')\n",
    "\n",
    "df_label = pd.read_csv(LABEL, header=None, sep='\\ ')\n"
   ]
  },
  {
   "cell_type": "markdown",
   "metadata": {
    "collapsed": true
   },
   "source": [
    "<h2> Function to extract basic information for each window </h2>"
   ]
  },
  {
   "cell_type": "code",
   "execution_count": null,
   "metadata": {
    "collapsed": false
   },
   "outputs": [],
   "source": [
    "'''\n",
    "http://pandas.pydata.org/pandas-docs/stable/api.html#id5\n",
    "Information about mean, median... \n",
    "'''\n",
    "\n",
    "def extract(method, data_frame, start, size):\n",
    "    res = []\n",
    "    for i in range(start, start + size):\n",
    "        \n",
    "        if method == 'mean':\n",
    "            res.append(data_frame.iloc[i].mean())\n",
    "        elif method == 'median':\n",
    "            res.append(data_frame.iloc[i].median())\n",
    "        elif method == 'max':\n",
    "            res.append(data_frame.iloc[i].max())\n",
    "        elif method == 'min':\n",
    "            res.append(data_frame.iloc[i].min())\n",
    "        elif method == 'std':\n",
    "            res.append(data_frame.iloc[i].std())\n",
    "        else:\n",
    "\n",
    "            res.append(data_frame.iloc[i])\n",
    "        \n",
    "    return pd.DataFrame(np.array(res))"
   ]
  },
  {
   "cell_type": "markdown",
   "metadata": {},
   "source": [
    "<h2>Mean<h2>"
   ]
  },
  {
   "cell_type": "code",
   "execution_count": null,
   "metadata": {
    "collapsed": true
   },
   "outputs": [],
   "source": [
    "start = 4000\n",
    "size = 1000"
   ]
  },
  {
   "cell_type": "markdown",
   "metadata": {},
   "source": [
    "<h3> Chest </h3>"
   ]
  },
  {
   "cell_type": "code",
   "execution_count": null,
   "metadata": {
    "collapsed": false
   },
   "outputs": [],
   "source": [
    "df_chest_x_mean = extract('mean',df_chest_x,start,size)\n",
    "df_chest_y_mean = extract('mean',df_chest_y,start,size)\n",
    "df_chest_z_mean = extract('mean',df_chest_z,start,size)\n",
    "df_label_ = extract('',df_label,start,size)\n",
    "\n",
    "df_chest_mean = pd.concat([df_chest_x_mean, df_chest_y_mean, df_chest_z_mean],axis=1,ignore_index=True)\n",
    "df_chest_mean_with_label = pd.concat([df_chest_mean, df_label_],axis=1,ignore_index=True)"
   ]
  },
  {
   "cell_type": "markdown",
   "metadata": {},
   "source": [
    "<h3>Visualize mean values</h3>"
   ]
  },
  {
   "cell_type": "code",
   "execution_count": null,
   "metadata": {
    "collapsed": false
   },
   "outputs": [],
   "source": [
    "import charts"
   ]
  },
  {
   "cell_type": "code",
   "execution_count": null,
   "metadata": {
    "collapsed": false
   },
   "outputs": [],
   "source": [
    "options = dict(\n",
    "    height=500, \n",
    "    title=dict(\n",
    "        text='Mean chest'),\n",
    "    chart=dict(zoomType='xy')\n",
    ")\n",
    "\n",
    "charts.plot(df_chest_mean_with_label, options=options, show='inline')"
   ]
  },
  {
   "cell_type": "markdown",
   "metadata": {},
   "source": [
    "<h3>Thigh</h3>"
   ]
  },
  {
   "cell_type": "code",
   "execution_count": 87,
   "metadata": {
    "collapsed": false
   },
   "outputs": [
    {
     "ename": "NameError",
     "evalue": "name 'df_thigh_x' is not defined",
     "output_type": "error",
     "traceback": [
      "\u001b[1;31m---------------------------------------------------------------------------\u001b[0m",
      "\u001b[1;31mNameError\u001b[0m                                 Traceback (most recent call last)",
      "\u001b[1;32m<ipython-input-87-ea76b5ed9506>\u001b[0m in \u001b[0;36m<module>\u001b[1;34m()\u001b[0m\n\u001b[1;32m----> 1\u001b[1;33m \u001b[0mdf_thigh_x_mean\u001b[0m \u001b[1;33m=\u001b[0m \u001b[0mextract\u001b[0m\u001b[1;33m(\u001b[0m\u001b[1;34m'mean'\u001b[0m\u001b[1;33m,\u001b[0m\u001b[0mdf_thigh_x\u001b[0m\u001b[1;33m,\u001b[0m\u001b[0mstart\u001b[0m\u001b[1;33m,\u001b[0m\u001b[0msize\u001b[0m\u001b[1;33m)\u001b[0m\u001b[1;33m\u001b[0m\u001b[0m\n\u001b[0m\u001b[0;32m      2\u001b[0m \u001b[0mdf_thigh_y_mean\u001b[0m \u001b[1;33m=\u001b[0m \u001b[0mextract\u001b[0m\u001b[1;33m(\u001b[0m\u001b[1;34m'mean'\u001b[0m\u001b[1;33m,\u001b[0m\u001b[0mdf_thigh_y\u001b[0m\u001b[1;33m,\u001b[0m\u001b[0mstart\u001b[0m\u001b[1;33m,\u001b[0m\u001b[0msize\u001b[0m\u001b[1;33m)\u001b[0m\u001b[1;33m\u001b[0m\u001b[0m\n\u001b[0;32m      3\u001b[0m \u001b[0mdf_thigh_z_mean\u001b[0m \u001b[1;33m=\u001b[0m \u001b[0mextract\u001b[0m\u001b[1;33m(\u001b[0m\u001b[1;34m'mean'\u001b[0m\u001b[1;33m,\u001b[0m\u001b[0mdf_thigh_z\u001b[0m\u001b[1;33m,\u001b[0m\u001b[0mstart\u001b[0m\u001b[1;33m,\u001b[0m\u001b[0msize\u001b[0m\u001b[1;33m)\u001b[0m\u001b[1;33m\u001b[0m\u001b[0m\n\u001b[0;32m      4\u001b[0m \u001b[0mdf_label_\u001b[0m \u001b[1;33m=\u001b[0m \u001b[0mextract\u001b[0m\u001b[1;33m(\u001b[0m\u001b[1;34m''\u001b[0m\u001b[1;33m,\u001b[0m\u001b[0mdf_label\u001b[0m\u001b[1;33m,\u001b[0m\u001b[0mstart\u001b[0m\u001b[1;33m,\u001b[0m\u001b[0msize\u001b[0m\u001b[1;33m)\u001b[0m\u001b[1;33m\u001b[0m\u001b[0m\n\u001b[0;32m      5\u001b[0m \u001b[1;33m\u001b[0m\u001b[0m\n",
      "\u001b[1;31mNameError\u001b[0m: name 'df_thigh_x' is not defined"
     ]
    }
   ],
   "source": [
    "df_thigh_x_mean = extract('mean',df_thigh_x,start,size)\n",
    "df_thigh_y_mean = extract('mean',df_thigh_y,start,size)\n",
    "df_thigh_z_mean = extract('mean',df_thigh_z,start,size)\n",
    "df_label_ = extract('',df_label,start,size)\n",
    "\n",
    "df_thigh_mean = pd.concat([df_thigh_x_mean, df_thigh_y_mean, df_thigh_z_mean],axis=1,ignore_index=True)\n",
    "df_thigh_mean_with_label = pd.concat([df_thigh_mean, df_label_],axis=1,ignore_index=True)"
   ]
  },
  {
   "cell_type": "code",
   "execution_count": null,
   "metadata": {
    "collapsed": true
   },
   "outputs": [],
   "source": [
    "options = dict(\n",
    "    height=500, \n",
    "    title=dict(\n",
    "        text='Mean chest'),\n",
    "    chart=dict(zoomType='xy')\n",
    ")\n",
    "\n",
    "charts.plot(df_thigh_mean_with_label, options=options, show='inline')"
   ]
  }
 ],
 "metadata": {
  "kernelspec": {
   "display_name": "Python 2",
   "language": "python",
   "name": "python2"
  },
  "language_info": {
   "codemirror_mode": {
    "name": "ipython",
    "version": 2
   },
   "file_extension": ".py",
   "mimetype": "text/x-python",
   "name": "python",
   "nbconvert_exporter": "python",
   "pygments_lexer": "ipython2",
   "version": "2.7.6"
  }
 },
 "nbformat": 4,
 "nbformat_minor": 0
}
