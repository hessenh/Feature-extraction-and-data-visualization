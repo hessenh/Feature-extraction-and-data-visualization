{
 "cells": [
  {
   "cell_type": "markdown",
   "metadata": {},
   "source": [
    "<h1>Classification using SciKit Learn</h1>"
   ]
  },
  {
   "cell_type": "markdown",
   "metadata": {},
   "source": [
    "<h3> SVM - Simple example</h3>"
   ]
  },
  {
   "cell_type": "code",
   "execution_count": 406,
   "metadata": {
    "collapsed": true
   },
   "outputs": [],
   "source": [
    "# http://scikit-learn.org/stable/modules/svm.html\n",
    "\n",
    "from sklearn import svm"
   ]
  },
  {
   "cell_type": "code",
   "execution_count": 407,
   "metadata": {
    "collapsed": false
   },
   "outputs": [
    {
     "data": {
      "text/plain": [
       "SVC(C=1.0, cache_size=200, class_weight=None, coef0=0.0, degree=3, gamma=0.0,\n",
       "  kernel='rbf', max_iter=-1, probability=False, random_state=None,\n",
       "  shrinking=True, tol=0.001, verbose=False)"
      ]
     },
     "execution_count": 407,
     "metadata": {},
     "output_type": "execute_result"
    }
   ],
   "source": [
    "X = [[0,0], [1,1], [2,2], [3,3]]\n",
    "Y = [0, 1, 2, 3]\n",
    "clf = svm.SVC()\n",
    "clf.fit(X, Y)  "
   ]
  },
  {
   "cell_type": "code",
   "execution_count": 408,
   "metadata": {
    "collapsed": false
   },
   "outputs": [
    {
     "data": {
      "text/plain": [
       "6"
      ]
     },
     "execution_count": 408,
     "metadata": {},
     "output_type": "execute_result"
    }
   ],
   "source": [
    "dec = clf.decision_function([[1,1]])\n",
    "dec.shape[1] # 4 classes: 4*3/2 = 6"
   ]
  },
  {
   "cell_type": "code",
   "execution_count": 409,
   "metadata": {
    "collapsed": false
   },
   "outputs": [
    {
     "name": "stdout",
     "output_type": "stream",
     "text": [
      "[1]\n"
     ]
    }
   ],
   "source": [
    "print clf.predict([1.0, 1.0])"
   ]
  },
  {
   "cell_type": "markdown",
   "metadata": {},
   "source": [
    "<h3>SVM test with features </h3>"
   ]
  },
  {
   "cell_type": "code",
   "execution_count": 410,
   "metadata": {
    "collapsed": true
   },
   "outputs": [],
   "source": [
    "import numpy as np\n",
    "import pandas as pd\n",
    "pd.set_option('html',False)\n",
    "from os import path"
   ]
  },
  {
   "cell_type": "code",
   "execution_count": 411,
   "metadata": {
    "collapsed": false
   },
   "outputs": [],
   "source": [
    "P03_FEATURES = path.relpath('data/FEATURES_P03.csv')\n",
    "LABEL = path.relpath('data/P03_DATA_WINDOW/P03_LABEL_L.csv')\n",
    "\n",
    "df_features = pd.read_csv(P03_FEATURES, sep='\\,')\n",
    "df_label = pd.read_csv(LABEL, header=None, sep='\\ ')\n",
    "\n",
    "# Get equal lengths of dataframes\n",
    "df_features = df_features[:len(df_label)]"
   ]
  },
  {
   "cell_type": "code",
   "execution_count": 412,
   "metadata": {
    "collapsed": true
   },
   "outputs": [],
   "source": [
    "from sklearn import cross_validation\n",
    "from sklearn import svm"
   ]
  },
  {
   "cell_type": "markdown",
   "metadata": {},
   "source": [
    "<h3> Divide data set into training and testing </h3>"
   ]
  },
  {
   "cell_type": "code",
   "execution_count": 413,
   "metadata": {
    "collapsed": false
   },
   "outputs": [],
   "source": [
    "X_train, X_test, Y_train, Y_test = cross_validation.train_test_split(df_features,df_label, test_size=0.2, random_state=0)"
   ]
  },
  {
   "cell_type": "code",
   "execution_count": 414,
   "metadata": {
    "collapsed": false,
    "scrolled": false
   },
   "outputs": [
    {
     "name": "stdout",
     "output_type": "stream",
     "text": [
      "(4968, 32) (1242, 32) (4968, 1) (1242, 1)\n"
     ]
    }
   ],
   "source": [
    "print X_train.shape, X_test.shape, Y_train.shape, Y_test.shape\n"
   ]
  },
  {
   "cell_type": "markdown",
   "metadata": {},
   "source": [
    "<h4> Train and test different SVM </h4>"
   ]
  },
  {
   "cell_type": "code",
   "execution_count": 415,
   "metadata": {
    "collapsed": false
   },
   "outputs": [
    {
     "name": "stdout",
     "output_type": "stream",
     "text": [
      "SVM - svc 0.789855072464\n"
     ]
    }
   ],
   "source": [
    "clf = svm.SVC(kernel='linear', C=1.0).fit(X_train, Y_train[0].values)\n",
    "print 'SVM - svc', clf.score(X_test, Y_test[0].values)"
   ]
  },
  {
   "cell_type": "markdown",
   "metadata": {
    "collapsed": true
   },
   "source": [
    "<h2> Feature selection </h2>"
   ]
  },
  {
   "cell_type": "markdown",
   "metadata": {},
   "source": [
    "<h3>ExtraTreesClassifier </h3>"
   ]
  },
  {
   "cell_type": "code",
   "execution_count": 416,
   "metadata": {
    "collapsed": false
   },
   "outputs": [
    {
     "name": "stdout",
     "output_type": "stream",
     "text": [
      "(6210, 32)\n",
      "[ 0.01707725  0.02215986  0.02252281  0.0686356   0.05355639  0.02128536\n",
      "  0.0125413   0.01111858  0.01005244  0.07092417  0.10463642  0.02590498\n",
      "  0.01550018  0.01280134  0.01131701  0.06153016  0.05644013  0.02749644\n",
      "  0.02497013  0.02118882  0.01480827  0.05509374  0.0643969   0.03089803\n",
      "  0.01117129  0.00954307  0.01607083  0.0305417   0.03086641  0.02518846\n",
      "  0.00849849  0.03126346]\n"
     ]
    },
    {
     "data": {
      "text/plain": [
       "(6210, 9)"
      ]
     },
     "execution_count": 416,
     "metadata": {},
     "output_type": "execute_result"
    }
   ],
   "source": [
    "from sklearn.ensemble import ExtraTreesClassifier\n",
    "\n",
    "X = df_features\n",
    "Y = df_label\n",
    "print X.shape\n",
    "\n",
    "clf = ExtraTreesClassifier()\n",
    "X_new = clf.fit(X, Y[0].values).transform(X)\n",
    "print clf.feature_importances_  \n",
    "X_new.shape"
   ]
  },
  {
   "cell_type": "code",
   "execution_count": 417,
   "metadata": {
    "collapsed": false
   },
   "outputs": [
    {
     "name": "stdout",
     "output_type": "stream",
     "text": [
      "SVM - svc 0.753623188406\n"
     ]
    }
   ],
   "source": [
    "X_train, X_test, Y_train, Y_test = cross_validation.train_test_split(X_new,df_label, test_size=0.2, random_state=0)\n",
    "\n",
    "\n",
    "clf = svm.SVC(kernel='linear', C=1.0).fit(X_train, Y_train[0].values)\n",
    "print 'SVM - svc', clf.score(X_test, Y_test[0].values)"
   ]
  },
  {
   "cell_type": "markdown",
   "metadata": {},
   "source": [
    "<h3>Recursive Feature Elimination </h3>"
   ]
  },
  {
   "cell_type": "code",
   "execution_count": 418,
   "metadata": {
    "collapsed": false
   },
   "outputs": [
    {
     "name": "stdout",
     "output_type": "stream",
     "text": [
      "[False False False False False False False False False  True False False\n",
      " False False False  True  True False False False False False False False\n",
      "  True False False False False  True False False]\n",
      "[10  9 24 13 15 25 22 16 21  1  2  3 26 23 18  1  1  4 17 20 11  6 12 19  1\n",
      "  7 14  5  8  1 28 27]\n"
     ]
    }
   ],
   "source": [
    "from sklearn.feature_selection import RFE\n",
    "from sklearn.linear_model import LogisticRegression\n",
    "\n",
    "# create a base classifier used to evaluate a subset of attributes\n",
    "model = LogisticRegression()\n",
    "# create the RFE model and select 3 attributes\n",
    "rfe = RFE(model, 5)\n",
    "rfe = rfe.fit(df_features, df_label[0].values)\n",
    "# summarize the selection of the attributes\n",
    "print(rfe.support_)\n",
    "print(rfe.ranking_)"
   ]
  },
  {
   "cell_type": "code",
   "execution_count": 419,
   "metadata": {
    "collapsed": false
   },
   "outputs": [
    {
     "name": "stdout",
     "output_type": "stream",
     "text": [
      "SVM - svc 0.713365539452\n"
     ]
    }
   ],
   "source": [
    "# Extract the new features\n",
    "X_new =  df_features[[i for i, x in enumerate(rfe.support_) if x]]\n",
    "\n",
    "\n",
    "X_train, X_test, Y_train, Y_test = cross_validation.train_test_split(X_new,df_label, test_size=0.2, random_state=0)\n",
    "X_new.shape\n",
    "\n",
    "clf = svm.SVC(kernel='linear', C=1.0).fit(X_train, Y_train[0].values)\n",
    "print 'SVM - svc', clf.score(X_test, Y_test[0].values)"
   ]
  },
  {
   "cell_type": "markdown",
   "metadata": {},
   "source": [
    "<h4>Test on one activity - Walking</h4>"
   ]
  },
  {
   "cell_type": "code",
   "execution_count": 420,
   "metadata": {
    "collapsed": false
   },
   "outputs": [
    {
     "name": "stdout",
     "output_type": "stream",
     "text": [
      "   min_chest_x  min_chest_z  max_chest_y  std_chest_y  std_chest_z\n",
      "0       -0.648       -0.408        1.276       0.1287     0.148089\n",
      "SVM - svc 0.834943639291\n"
     ]
    }
   ],
   "source": [
    "df_walking_label = df_label\n",
    "\n",
    "activity = [6,7,8,10,14]\n",
    "# Change the labeling. Walking will have 1, others will have its own value\n",
    "for i in range(1,15):\n",
    "    if i not in activity:\n",
    "        df_walking_label.loc[df_label[0] == i] = 0\n",
    "    else:\n",
    "        df_walking_label.loc[df_label[0] == i] = 1\n",
    "    \n",
    "        \n",
    "model = LogisticRegression()\n",
    "rfe = RFE(model,5)\n",
    "rfe = rfe.fit(df_features, df_walking_label[0].values)\n",
    "\n",
    "# Extract the new features\n",
    "X_new =  df_features[[i for i, x in enumerate(rfe.support_) if x]]\n",
    "print X_new.head(1)\n",
    "\n",
    "X_train, X_test, Y_train, Y_test = cross_validation.train_test_split(X_new,df_walking_label, test_size=0.2, random_state=0)\n",
    "\n",
    "\n",
    "clf = svm.SVC(kernel='linear', C=1.0).fit(X_train, Y_train[0].values)\n",
    "print 'SVM - svc', clf.score(X_test, Y_test[0].values)"
   ]
  },
  {
   "cell_type": "code",
   "execution_count": null,
   "metadata": {
    "collapsed": true
   },
   "outputs": [],
   "source": []
  }
 ],
 "metadata": {
  "kernelspec": {
   "display_name": "Python 2",
   "language": "python",
   "name": "python2"
  },
  "language_info": {
   "codemirror_mode": {
    "name": "ipython",
    "version": 2
   },
   "file_extension": ".py",
   "mimetype": "text/x-python",
   "name": "python",
   "nbconvert_exporter": "python",
   "pygments_lexer": "ipython2",
   "version": "2.7.6"
  }
 },
 "nbformat": 4,
 "nbformat_minor": 0
}
