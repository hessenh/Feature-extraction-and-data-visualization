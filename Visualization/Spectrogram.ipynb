{
 "metadata": {
  "name": ""
 },
 "nbformat": 3,
 "nbformat_minor": 0,
 "worksheets": [
  {
   "cells": [
    {
     "cell_type": "code",
     "collapsed": false,
     "input": [
      "import numpy as np\n",
      "import pandas as pd\n",
      "import math as math\n",
      "import matplotlib.pyplot as plt\n",
      "import charts\n",
      "pd.set_option('html',False)\n",
      "from os import path"
     ],
     "language": "python",
     "metadata": {},
     "outputs": [],
     "prompt_number": 9
    },
    {
     "cell_type": "code",
     "collapsed": false,
     "input": [
      "THIGH = path.relpath('../data/P03/RAW_SIGNALS/P03_Axivity_THIGH_Left.csv')\n",
      "LABEL = path.relpath('../data/P03/RAW_SIGNALS/P03_Usability_LAB_All.csv')\n",
      "\n",
      "\n",
      "thigh = pd.read_csv(THIGH, header=None, sep='\\,')\n",
      "label = pd.read_csv(LABEL, header=None, sep='\\ ')\n",
      "\n",
      "x = thigh[0]\n",
      "start = 192008\n",
      "stop = start + 2000\n",
      "\n",
      "x = x[start:stop]\n",
      "\n",
      "for i in range(start,stop):\n",
      "    k =  i-start\n",
      "    if k % 100 == 0:\n",
      "        print label.iloc[i].values[0]"
     ],
     "language": "python",
     "metadata": {},
     "outputs": [
      {
       "output_type": "stream",
       "stream": "stdout",
       "text": [
        "1\n",
        "1\n",
        "1\n",
        "1\n",
        "1\n",
        "1\n",
        "1\n",
        "1\n",
        "1\n",
        "9\n",
        "9\n",
        "9\n",
        "7\n",
        "7\n",
        "7\n",
        "7\n",
        "7\n",
        "7\n",
        "7\n",
        "7\n"
       ]
      }
     ],
     "prompt_number": 83
    },
    {
     "cell_type": "code",
     "collapsed": false,
     "input": [
      "\n",
      "        \n",
      "Pxx, freqs, bins, im = plt.specgram(x, NFFT=100, Fs=100,  noverlap=50,\n",
      "                                    cmap=None)\n",
      "plt.show()"
     ],
     "language": "python",
     "metadata": {},
     "outputs": [],
     "prompt_number": 81
    },
    {
     "cell_type": "code",
     "collapsed": false,
     "input": [],
     "language": "python",
     "metadata": {},
     "outputs": [],
     "prompt_number": 10
    },
    {
     "cell_type": "code",
     "collapsed": false,
     "input": [],
     "language": "python",
     "metadata": {},
     "outputs": [],
     "prompt_number": 10
    },
    {
     "cell_type": "code",
     "collapsed": false,
     "input": [],
     "language": "python",
     "metadata": {},
     "outputs": [],
     "prompt_number": 10
    },
    {
     "cell_type": "code",
     "collapsed": false,
     "input": [],
     "language": "python",
     "metadata": {},
     "outputs": [
      {
       "output_type": "stream",
       "stream": "stdout",
       "text": [
        "[ -2.91771500e+01 +0.00000000e+00j  -2.63028551e-01 -2.34010749e-01j\n",
        "  -6.97051805e-02 -1.68938125e-01j  -2.28026371e-02 +4.82992920e-02j\n",
        "  -4.33805123e-02 -3.05963679e-02j  -2.14236289e-02 -6.39085632e-02j\n",
        "   2.41115933e-02 -1.56737473e-01j   4.29926421e-03 -2.82095846e-02j\n",
        "   6.31134916e-02 -4.23882698e-02j   4.44772704e-02 -1.16198332e-02j\n",
        "  -2.09889933e-02 +1.76133132e-03j  -2.22261291e-02 -2.55431558e-05j\n",
        "  -1.72617991e-02 -1.55663630e-02j   8.11590993e-03 -4.18620853e-02j\n",
        "   2.03431416e-02 -1.25012146e-02j   1.53564545e-02 +7.63062937e-03j\n",
        "  -1.38874491e-03 -2.14653721e-04j  -6.25605488e-04 -1.37416092e-02j\n",
        "   6.06140454e-03 -1.89613754e-02j   6.11229843e-03 +1.00800315e-02j\n",
        "   7.21040200e-03 -2.35435649e-02j   3.47017405e-02 +3.56724217e-03j\n",
        "   5.82747764e-03 +3.23957936e-02j  -1.18208294e-02 -1.20708437e-03j\n",
        "   1.17550709e-02 -1.74205586e-03j   4.68000000e-03 -1.07300000e-02j\n",
        "   9.00281947e-03 -2.32460616e-02j   1.48197786e-02 +4.47608180e-05j\n",
        "   1.07589195e-02 -1.16236641e-03j   9.81775555e-03 +6.10251070e-03j\n",
        "  -3.01100673e-03 +5.61450906e-03j   1.65979675e-02 +5.86448332e-03j\n",
        "  -1.14657646e-02 +3.08878756e-03j  -4.58092056e-03 +6.86706706e-03j\n",
        "   6.53299324e-03 -3.14625691e-02j  -6.45057284e-03 +2.82656797e-02j\n",
        "  -1.49062948e-02 +2.91438699e-03j  -1.61414860e-03 +5.65881540e-03j\n",
        "  -7.27013131e-03 +4.99742237e-03j  -1.51462204e-02 -4.36959585e-03j\n",
        "  -8.71040200e-03 +9.00203052e-03j  -1.18582865e-02 +1.06393547e-03j\n",
        "  -6.26364368e-03 -5.10893604e-03j   9.18696025e-03 +4.47800914e-03j\n",
        "  -1.66249878e-02 -3.98291156e-03j   6.53774729e-03 -6.91512767e-03j\n",
        "   5.05952575e-03 +6.61389786e-03j  -5.54817164e-03 -2.15018870e-03j\n",
        "   1.00621517e-04 +6.16811740e-03j   1.89225548e-02 -1.02071420e-03j]\n"
       ]
      }
     ],
     "prompt_number": 14
    },
    {
     "cell_type": "code",
     "collapsed": false,
     "input": [
      "import matplotlib.pyplot as plt\n",
      "import numpy as np\n",
      "\n",
      "dt = 0.0005\n",
      "t = np.arange(0.0, 20.0, dt)\n",
      "\n",
      "s1 = np.sin(2*np.pi*100*t)\n",
      "s2 = 2*np.sin(2*np.pi*400*t)\n",
      "\n",
      "\n",
      "# create a transient \"chirp\"\n",
      "mask = np.where(np.logical_and(t > 10, t < 12), 1.0, 0.0)\n",
      "s2 = s2 * mask\n",
      "\n",
      "# add some noise into the mix\n",
      "nse = 0.01*np.random.random(size=len(t))\n",
      "\n",
      "x = s1 + s2 + nse  # the signal\n",
      "NFFT = 1024       # the length of the windowing segments\n",
      "Fs = int(1.0/dt)  # the sampling frequency\n",
      "\n",
      "# Pxx is the segments x freqs array of instantaneous power, freqs is\n",
      "# the frequency vector, bins are the centers of the time bins in which\n",
      "# the power is computed, and im is the matplotlib.image.AxesImage\n",
      "# instance\n",
      "\n",
      "ax1 = plt.subplot(211)\n",
      "plt.plot(t, x)\n",
      "plt.subplot(212, sharex=ax1)\n",
      "Pxx, freqs, bins, im = plt.specgram(x, NFFT=NFFT, Fs=Fs, noverlap=900,\n",
      "                                cmap=plt.cm.gist_heat)\n",
      "#plt.show()"
     ],
     "language": "python",
     "metadata": {},
     "outputs": [
      {
       "output_type": "stream",
       "stream": "stdout",
       "text": [
        "[  0.00000000e+00   5.00000000e-04   1.00000000e-03 ...,   1.99985000e+01\n",
        "   1.99990000e+01   1.99995000e+01]\n"
       ]
      }
     ],
     "prompt_number": 18
    }
   ],
   "metadata": {}
  }
 ]
}