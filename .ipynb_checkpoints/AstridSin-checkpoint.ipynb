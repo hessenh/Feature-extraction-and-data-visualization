{
 "cells": [
  {
   "cell_type": "code",
   "execution_count": 16,
   "metadata": {
    "collapsed": false
   },
   "outputs": [],
   "source": [
    "import numpy as np\n",
    "import pandas as pd\n",
    "pd.set_option('html',False)"
   ]
  },
  {
   "cell_type": "code",
   "execution_count": 17,
   "metadata": {
    "collapsed": false,
    "scrolled": false
   },
   "outputs": [
    {
     "name": "stdout",
     "output_type": "stream",
     "text": [
      "Python version 2.7.6 (default, Jun 22 2015, 17:58:13) \n",
      "[GCC 4.8.2]\n",
      "Pandas version 0.16.2\n"
     ]
    }
   ],
   "source": [
    "# Import all libraries needed for the tutorial\n",
    "import pandas as pd\n",
    "from numpy import random\n",
    "import matplotlib.pyplot as plt\n",
    "import sys #only needed to determine Python version number\n",
    "\n",
    "# Enable inline plotting\n",
    "%matplotlib inline\n",
    "\n",
    "train_x = '/home/astrid/development/prosjektoppgave/Notebook/K-Nearest-Neighbors-with-Dynamic-Time-Warping-master/data/UCI-HAR-Dataset/train/Inertial Signals/body_acc_x_train.txt'\n",
    "train_y = '/home/astrid/development/prosjektoppgave/Notebook/K-Nearest-Neighbors-with-Dynamic-Time-Warping-master/data/UCI-HAR-Dataset/train/Inertial Signals/body_acc_y_train.txt'\n",
    "train_z = '/home/astrid/development/prosjektoppgave/Notebook/K-Nearest-Neighbors-with-Dynamic-Time-Warping-master/data/UCI-HAR-Dataset/train/Inertial Signals/body_acc_z_train.txt'\n",
    "train_l = '/home/astrid/development/prosjektoppgave/Notebook/K-Nearest-Neighbors-with-Dynamic-Time-Warping-master/data/UCI-HAR-Dataset/train/y_train.txt'\n",
    "\n",
    "\n",
    "print 'Python version ' + sys.version\n",
    "print 'Pandas version ' + pd.__version__"
   ]
  },
  {
   "cell_type": "code",
   "execution_count": 18,
   "metadata": {
    "collapsed": false,
    "scrolled": false
   },
   "outputs": [
    {
     "name": "stdout",
     "output_type": "stream",
     "text": [
      "<class 'pandas.core.frame.DataFrame'>\n",
      "Int64Index: 7352 entries, 0 to 7351\n",
      "Columns: 128 entries, 0 to 127\n",
      "dtypes: float64(128)\n",
      "memory usage: 7.2 MB\n",
      "\n",
      "<class 'pandas.core.frame.DataFrame'>\n",
      "Int64Index: 7352 entries, 0 to 7351\n",
      "Columns: 128 entries, 0 to 127\n",
      "dtypes: float64(128)\n",
      "memory usage: 7.2 MB\n",
      "\n",
      "<class 'pandas.core.frame.DataFrame'>\n",
      "Int64Index: 7352 entries, 0 to 7351\n",
      "Columns: 128 entries, 0 to 127\n",
      "dtypes: float64(128)\n",
      "memory usage: 7.2 MB\n",
      "\n",
      "<class 'pandas.core.frame.DataFrame'>\n",
      "Int64Index: 7352 entries, 0 to 7351\n",
      "Data columns (total 1 columns):\n",
      "0    7352 non-null int64\n",
      "dtypes: int64(1)\n",
      "memory usage: 114.9 KB\n"
     ]
    }
   ],
   "source": [
    "df_x = pd.read_csv(train_x, header=None, sep='\\s+')\n",
    "df_x.info()\n",
    "print \n",
    "df_y = pd.read_csv(train_y, header=None, sep='\\s+')\n",
    "df_y.info()\n",
    "print \n",
    "df_z = pd.read_csv(train_z, header=None, sep='\\s+')\n",
    "df_z.info()\n",
    "print \n",
    "df_l = pd.read_csv(train_l, header=None, sep='\\s+')\n",
    "df_l.info()"
   ]
  },
  {
   "cell_type": "code",
   "execution_count": 19,
   "metadata": {
    "collapsed": false
   },
   "outputs": [
    {
     "ename": "NameError",
     "evalue": "name 'df_n' is not defined",
     "output_type": "error",
     "traceback": [
      "\u001b[1;31m---------------------------------------------------------------------------\u001b[0m",
      "\u001b[1;31mNameError\u001b[0m                                 Traceback (most recent call last)",
      "\u001b[1;32m<ipython-input-19-462dcac01b5f>\u001b[0m in \u001b[0;36m<module>\u001b[1;34m()\u001b[0m\n\u001b[1;32m----> 1\u001b[1;33m \u001b[0mdf_x_n\u001b[0m \u001b[1;33m=\u001b[0m \u001b[0mpd\u001b[0m\u001b[1;33m.\u001b[0m\u001b[0mconcat\u001b[0m\u001b[1;33m(\u001b[0m\u001b[1;33m[\u001b[0m\u001b[0mdf_x\u001b[0m\u001b[1;33m,\u001b[0m\u001b[0mdf_n\u001b[0m\u001b[1;33m]\u001b[0m\u001b[1;33m,\u001b[0m\u001b[0maxis\u001b[0m\u001b[1;33m=\u001b[0m\u001b[1;36m1\u001b[0m\u001b[1;33m,\u001b[0m\u001b[0mignore_index\u001b[0m\u001b[1;33m=\u001b[0m\u001b[0mTrue\u001b[0m\u001b[1;33m)\u001b[0m\u001b[1;33m\u001b[0m\u001b[0m\n\u001b[0m\u001b[0;32m      2\u001b[0m \u001b[0mdf_y_n\u001b[0m \u001b[1;33m=\u001b[0m \u001b[0mpd\u001b[0m\u001b[1;33m.\u001b[0m\u001b[0mconcat\u001b[0m\u001b[1;33m(\u001b[0m\u001b[1;33m[\u001b[0m\u001b[0mdf_y\u001b[0m\u001b[1;33m,\u001b[0m\u001b[0mdf_n\u001b[0m\u001b[1;33m]\u001b[0m\u001b[1;33m,\u001b[0m\u001b[0maxis\u001b[0m\u001b[1;33m=\u001b[0m\u001b[1;36m1\u001b[0m\u001b[1;33m,\u001b[0m\u001b[0mignore_index\u001b[0m\u001b[1;33m=\u001b[0m\u001b[0mTrue\u001b[0m\u001b[1;33m)\u001b[0m\u001b[1;33m\u001b[0m\u001b[0m\n\u001b[0;32m      3\u001b[0m \u001b[0mdf_z_n\u001b[0m \u001b[1;33m=\u001b[0m \u001b[0mpd\u001b[0m\u001b[1;33m.\u001b[0m\u001b[0mconcat\u001b[0m\u001b[1;33m(\u001b[0m\u001b[1;33m[\u001b[0m\u001b[0mdf_z\u001b[0m\u001b[1;33m,\u001b[0m\u001b[0mdf_n\u001b[0m\u001b[1;33m]\u001b[0m\u001b[1;33m,\u001b[0m\u001b[0maxis\u001b[0m\u001b[1;33m=\u001b[0m\u001b[1;36m1\u001b[0m\u001b[1;33m,\u001b[0m\u001b[0mignore_index\u001b[0m\u001b[1;33m=\u001b[0m\u001b[0mTrue\u001b[0m\u001b[1;33m)\u001b[0m\u001b[1;33m\u001b[0m\u001b[0m\n",
      "\u001b[1;31mNameError\u001b[0m: name 'df_n' is not defined"
     ]
    }
   ],
   "source": [
    "df_x_n = pd.concat([df_x,df_n],axis=1,ignore_index=True)\n",
    "df_y_n = pd.concat([df_y,df_n],axis=1,ignore_index=True)\n",
    "df_z_n = pd.concat([df_z,df_n],axis=1,ignore_index=True)"
   ]
  },
  {
   "cell_type": "markdown",
   "metadata": {
    "collapsed": true
   },
   "source": [
    "Data description\n",
    "\n",
    "1 WALKING\n",
    "\n",
    "2 WALKING_UPSTAIRS\n",
    "\n",
    "3 WALKING_DOWNSTAIRS\n",
    "\n",
    "4 SITTING\n",
    "\n",
    "5 STANDING\n",
    "\n",
    "6 LAYING"
   ]
  },
  {
   "cell_type": "code",
   "execution_count": null,
   "metadata": {
    "collapsed": false
   },
   "outputs": [],
   "source": [
    "df_walk_x = df_x[df_l[0] == 1]\n",
    "df_walk_y = df_y[df_l[0] == 1]\n",
    "df_walk_z = df_z[df_l[0] == 1]\n",
    "print \"Walking: \",len(df_walk_x) \n",
    "df_walk_up_x = df_x[df_l[0] == 2]\n",
    "df_walk_up_y = df_y[df_l[0] == 2]\n",
    "df_walk_up_z = df_z[df_l[0] == 2]\n",
    "print \"Walking up: \",len(df_walk_up_x)\n",
    "df_walk_down_x = df_x[df_l[0] == 3]\n",
    "df_walk_down_y = df_y[df_l[0] == 3]\n",
    "df_walk_down_z = df_z[df_l[0] == 3]\n",
    "print \"Walking down: \",len(df_walk_down_x)\n",
    "df_sitting_x = df_x[df_l[0] == 4]\n",
    "df_sitting_y = df_y[df_l[0] == 4]\n",
    "df_sitting_z = df_z[df_l[0] == 4]\n",
    "print \"Sitting: \",len(df_sitting_x)\n",
    "df_standing_x = df_x[df_l[0] == 5]\n",
    "df_standing_y = df_y[df_l[0] == 5]\n",
    "df_standing_z = df_z[df_l[0] == 5]\n",
    "print \"Standing: \",len(df_standing_x)\n",
    "df_laying_x = df_x[df_l[0] == 6]\n",
    "df_laying_y = df_y[df_l[0] == 6]\n",
    "df_laying_z = df_z[df_l[0] == 6]\n",
    "print \"Laying: \",len(df_laying_x)"
   ]
  },
  {
   "cell_type": "code",
   "execution_count": 23,
   "metadata": {
    "collapsed": false,
    "scrolled": true
   },
   "outputs": [
    {
     "name": "stdout",
     "output_type": "stream",
     "text": [
      "0    5\n",
      "Name: 0, dtype: int64\n"
     ]
    },
    {
     "data": {
      "image/png": "[encoded data removed]",
      "text/plain": [
       "<matplotlib.figure.Figure at 0x7fdd9ccbe110>"
      ]
     },
     "metadata": {},
     "output_type": "display_data"
    }
   ],
   "source": [
    "print df_l.iloc[0]\n",
    "df_x.iloc[1]\n",
    "\n",
    "for x in range(10,20):\n",
    "    if df_l.iloc[x][0] == 5:\n",
    "        thisColor='b'\n",
    "    else:\n",
    "        thisColor = 'r'\n",
    "    plt.plot(range(x*128, (x+1)*128), df_x.iloc[x],color=thisColor)\n",
    "\n",
    "plt.axis([10*128,128*20, -0.1, 0.1])\n",
    "plt.show()\n",
    "\n",
    "\n"
   ]
  },
  {
   "cell_type": "code",
   "execution_count": null,
   "metadata": {
    "collapsed": false
   },
   "outputs": [],
   "source": []
  },
  {
   "cell_type": "code",
   "execution_count": null,
   "metadata": {
    "collapsed": true
   },
   "outputs": [],
   "source": []
  }
 ],
 "metadata": {
  "kernelspec": {
   "display_name": "Python 2",
   "language": "python",
   "name": "python2"
  },
  "language_info": {
   "codemirror_mode": {
    "name": "ipython",
    "version": 2
   },
   "file_extension": ".py",
   "mimetype": "text/x-python",
   "name": "python",
   "nbconvert_exporter": "python",
   "pygments_lexer": "ipython2",
   "version": "2.7.6"
  }
 },
 "nbformat": 4,
 "nbformat_minor": 0
}
